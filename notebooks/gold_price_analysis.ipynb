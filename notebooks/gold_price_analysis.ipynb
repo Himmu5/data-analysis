{
 "cells": [
  {
   "cell_type": "markdown",
   "id": "b1f85990",
   "metadata": {},
   "source": [
    "Gold price data analysis"
   ]
  }
 ],
 "metadata": {
  "language_info": {
   "name": "python"
  }
 },
 "nbformat": 4,
 "nbformat_minor": 5
}
