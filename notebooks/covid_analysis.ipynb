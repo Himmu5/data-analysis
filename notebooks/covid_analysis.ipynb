{
 "cells": [
  {
   "cell_type": "markdown",
   "id": "785e9946",
   "metadata": {},
   "source": [
    "### Covid dataset"
   ]
  },
  {
   "cell_type": "code",
   "execution_count": 112,
   "id": "756b4148",
   "metadata": {},
   "outputs": [],
   "source": [
    "import pandas as pd\n",
    "import matplotlib.pyplot as plt\n",
    "import seaborn as sns\n",
    "import plotly.express as px"
   ]
  },
  {
   "cell_type": "code",
   "execution_count": 3,
   "id": "b7d4683d",
   "metadata": {},
   "outputs": [],
   "source": [
    "covid_data = pd.read_csv(\"../dataset/covid.csv\")"
   ]
  },
  {
   "cell_type": "code",
   "execution_count": 5,
   "id": "1944f8df",
   "metadata": {},
   "outputs": [
    {
     "name": "stdout",
     "output_type": "stream",
     "text": [
      "<class 'pandas.core.frame.DataFrame'>\n",
      "RangeIndex: 209 entries, 0 to 208\n",
      "Data columns (total 17 columns):\n",
      " #   Column            Non-Null Count  Dtype  \n",
      "---  ------            --------------  -----  \n",
      " 0   Country/Region    209 non-null    object \n",
      " 1   Continent         208 non-null    object \n",
      " 2   Population        208 non-null    float64\n",
      " 3   TotalCases        209 non-null    int64  \n",
      " 4   NewCases          4 non-null      float64\n",
      " 5   TotalDeaths       188 non-null    float64\n",
      " 6   NewDeaths         3 non-null      float64\n",
      " 7   TotalRecovered    205 non-null    float64\n",
      " 8   NewRecovered      3 non-null      float64\n",
      " 9   ActiveCases       205 non-null    float64\n",
      " 10  Serious,Critical  122 non-null    float64\n",
      " 11  Tot Cases/1M pop  208 non-null    float64\n",
      " 12  Deaths/1M pop     187 non-null    float64\n",
      " 13  TotalTests        191 non-null    float64\n",
      " 14  Tests/1M pop      191 non-null    float64\n",
      " 15  WHO Region        184 non-null    object \n",
      " 16  iso_alpha         209 non-null    object \n",
      "dtypes: float64(12), int64(1), object(4)\n",
      "memory usage: 27.9+ KB\n"
     ]
    }
   ],
   "source": [
    "covid_data.info()"
   ]
  },
  {
   "cell_type": "code",
   "execution_count": 8,
   "id": "f30e41e8",
   "metadata": {},
   "outputs": [],
   "source": [
    "covid_data.fillna(0, inplace=True)"
   ]
  },
  {
   "cell_type": "code",
   "execution_count": 9,
   "id": "707723fe",
   "metadata": {},
   "outputs": [
    {
     "data": {
      "text/html": [
       "<div>\n",
       "<style scoped>\n",
       "    .dataframe tbody tr th:only-of-type {\n",
       "        vertical-align: middle;\n",
       "    }\n",
       "\n",
       "    .dataframe tbody tr th {\n",
       "        vertical-align: top;\n",
       "    }\n",
       "\n",
       "    .dataframe thead th {\n",
       "        text-align: right;\n",
       "    }\n",
       "</style>\n",
       "<table border=\"1\" class=\"dataframe\">\n",
       "  <thead>\n",
       "    <tr style=\"text-align: right;\">\n",
       "      <th></th>\n",
       "      <th>Country/Region</th>\n",
       "      <th>Continent</th>\n",
       "      <th>Population</th>\n",
       "      <th>TotalCases</th>\n",
       "      <th>NewCases</th>\n",
       "      <th>TotalDeaths</th>\n",
       "      <th>NewDeaths</th>\n",
       "      <th>TotalRecovered</th>\n",
       "      <th>NewRecovered</th>\n",
       "      <th>ActiveCases</th>\n",
       "      <th>Serious,Critical</th>\n",
       "      <th>Tot Cases/1M pop</th>\n",
       "      <th>Deaths/1M pop</th>\n",
       "      <th>TotalTests</th>\n",
       "      <th>Tests/1M pop</th>\n",
       "      <th>WHO Region</th>\n",
       "      <th>iso_alpha</th>\n",
       "    </tr>\n",
       "  </thead>\n",
       "  <tbody>\n",
       "    <tr>\n",
       "      <th>0</th>\n",
       "      <td>USA</td>\n",
       "      <td>North America</td>\n",
       "      <td>3.311981e+08</td>\n",
       "      <td>5032179</td>\n",
       "      <td>0.0</td>\n",
       "      <td>162804.0</td>\n",
       "      <td>0.0</td>\n",
       "      <td>2576668.0</td>\n",
       "      <td>0.0</td>\n",
       "      <td>2292707.0</td>\n",
       "      <td>18296.0</td>\n",
       "      <td>15194.0</td>\n",
       "      <td>492.0</td>\n",
       "      <td>63139605.0</td>\n",
       "      <td>190640.0</td>\n",
       "      <td>Americas</td>\n",
       "      <td>USA</td>\n",
       "    </tr>\n",
       "    <tr>\n",
       "      <th>1</th>\n",
       "      <td>Brazil</td>\n",
       "      <td>South America</td>\n",
       "      <td>2.127107e+08</td>\n",
       "      <td>2917562</td>\n",
       "      <td>0.0</td>\n",
       "      <td>98644.0</td>\n",
       "      <td>0.0</td>\n",
       "      <td>2047660.0</td>\n",
       "      <td>0.0</td>\n",
       "      <td>771258.0</td>\n",
       "      <td>8318.0</td>\n",
       "      <td>13716.0</td>\n",
       "      <td>464.0</td>\n",
       "      <td>13206188.0</td>\n",
       "      <td>62085.0</td>\n",
       "      <td>Americas</td>\n",
       "      <td>BRA</td>\n",
       "    </tr>\n",
       "    <tr>\n",
       "      <th>2</th>\n",
       "      <td>India</td>\n",
       "      <td>Asia</td>\n",
       "      <td>1.381345e+09</td>\n",
       "      <td>2025409</td>\n",
       "      <td>0.0</td>\n",
       "      <td>41638.0</td>\n",
       "      <td>0.0</td>\n",
       "      <td>1377384.0</td>\n",
       "      <td>0.0</td>\n",
       "      <td>606387.0</td>\n",
       "      <td>8944.0</td>\n",
       "      <td>1466.0</td>\n",
       "      <td>30.0</td>\n",
       "      <td>22149351.0</td>\n",
       "      <td>16035.0</td>\n",
       "      <td>South-EastAsia</td>\n",
       "      <td>IND</td>\n",
       "    </tr>\n",
       "    <tr>\n",
       "      <th>3</th>\n",
       "      <td>Russia</td>\n",
       "      <td>Europe</td>\n",
       "      <td>1.459409e+08</td>\n",
       "      <td>871894</td>\n",
       "      <td>0.0</td>\n",
       "      <td>14606.0</td>\n",
       "      <td>0.0</td>\n",
       "      <td>676357.0</td>\n",
       "      <td>0.0</td>\n",
       "      <td>180931.0</td>\n",
       "      <td>2300.0</td>\n",
       "      <td>5974.0</td>\n",
       "      <td>100.0</td>\n",
       "      <td>29716907.0</td>\n",
       "      <td>203623.0</td>\n",
       "      <td>Europe</td>\n",
       "      <td>RUS</td>\n",
       "    </tr>\n",
       "    <tr>\n",
       "      <th>4</th>\n",
       "      <td>South Africa</td>\n",
       "      <td>Africa</td>\n",
       "      <td>5.938157e+07</td>\n",
       "      <td>538184</td>\n",
       "      <td>0.0</td>\n",
       "      <td>9604.0</td>\n",
       "      <td>0.0</td>\n",
       "      <td>387316.0</td>\n",
       "      <td>0.0</td>\n",
       "      <td>141264.0</td>\n",
       "      <td>539.0</td>\n",
       "      <td>9063.0</td>\n",
       "      <td>162.0</td>\n",
       "      <td>3149807.0</td>\n",
       "      <td>53044.0</td>\n",
       "      <td>Africa</td>\n",
       "      <td>ZAF</td>\n",
       "    </tr>\n",
       "    <tr>\n",
       "      <th>...</th>\n",
       "      <td>...</td>\n",
       "      <td>...</td>\n",
       "      <td>...</td>\n",
       "      <td>...</td>\n",
       "      <td>...</td>\n",
       "      <td>...</td>\n",
       "      <td>...</td>\n",
       "      <td>...</td>\n",
       "      <td>...</td>\n",
       "      <td>...</td>\n",
       "      <td>...</td>\n",
       "      <td>...</td>\n",
       "      <td>...</td>\n",
       "      <td>...</td>\n",
       "      <td>...</td>\n",
       "      <td>...</td>\n",
       "      <td>...</td>\n",
       "    </tr>\n",
       "    <tr>\n",
       "      <th>204</th>\n",
       "      <td>Montserrat</td>\n",
       "      <td>North America</td>\n",
       "      <td>4.992000e+03</td>\n",
       "      <td>13</td>\n",
       "      <td>0.0</td>\n",
       "      <td>1.0</td>\n",
       "      <td>0.0</td>\n",
       "      <td>10.0</td>\n",
       "      <td>0.0</td>\n",
       "      <td>2.0</td>\n",
       "      <td>0.0</td>\n",
       "      <td>2604.0</td>\n",
       "      <td>200.0</td>\n",
       "      <td>61.0</td>\n",
       "      <td>12220.0</td>\n",
       "      <td>0</td>\n",
       "      <td>MSR</td>\n",
       "    </tr>\n",
       "    <tr>\n",
       "      <th>205</th>\n",
       "      <td>Caribbean Netherlands</td>\n",
       "      <td>North America</td>\n",
       "      <td>2.624700e+04</td>\n",
       "      <td>13</td>\n",
       "      <td>0.0</td>\n",
       "      <td>0.0</td>\n",
       "      <td>0.0</td>\n",
       "      <td>7.0</td>\n",
       "      <td>0.0</td>\n",
       "      <td>6.0</td>\n",
       "      <td>0.0</td>\n",
       "      <td>495.0</td>\n",
       "      <td>0.0</td>\n",
       "      <td>424.0</td>\n",
       "      <td>16154.0</td>\n",
       "      <td>0</td>\n",
       "      <td></td>\n",
       "    </tr>\n",
       "    <tr>\n",
       "      <th>206</th>\n",
       "      <td>Falkland Islands</td>\n",
       "      <td>South America</td>\n",
       "      <td>3.489000e+03</td>\n",
       "      <td>13</td>\n",
       "      <td>0.0</td>\n",
       "      <td>0.0</td>\n",
       "      <td>0.0</td>\n",
       "      <td>13.0</td>\n",
       "      <td>0.0</td>\n",
       "      <td>0.0</td>\n",
       "      <td>0.0</td>\n",
       "      <td>3726.0</td>\n",
       "      <td>0.0</td>\n",
       "      <td>1816.0</td>\n",
       "      <td>520493.0</td>\n",
       "      <td>0</td>\n",
       "      <td>FLK</td>\n",
       "    </tr>\n",
       "    <tr>\n",
       "      <th>207</th>\n",
       "      <td>Vatican City</td>\n",
       "      <td>Europe</td>\n",
       "      <td>8.010000e+02</td>\n",
       "      <td>12</td>\n",
       "      <td>0.0</td>\n",
       "      <td>0.0</td>\n",
       "      <td>0.0</td>\n",
       "      <td>12.0</td>\n",
       "      <td>0.0</td>\n",
       "      <td>0.0</td>\n",
       "      <td>0.0</td>\n",
       "      <td>14981.0</td>\n",
       "      <td>0.0</td>\n",
       "      <td>0.0</td>\n",
       "      <td>0.0</td>\n",
       "      <td>Europe</td>\n",
       "      <td>VAT</td>\n",
       "    </tr>\n",
       "    <tr>\n",
       "      <th>208</th>\n",
       "      <td>Western Sahara</td>\n",
       "      <td>Africa</td>\n",
       "      <td>5.986820e+05</td>\n",
       "      <td>10</td>\n",
       "      <td>0.0</td>\n",
       "      <td>1.0</td>\n",
       "      <td>0.0</td>\n",
       "      <td>8.0</td>\n",
       "      <td>0.0</td>\n",
       "      <td>1.0</td>\n",
       "      <td>0.0</td>\n",
       "      <td>17.0</td>\n",
       "      <td>2.0</td>\n",
       "      <td>0.0</td>\n",
       "      <td>0.0</td>\n",
       "      <td>Africa</td>\n",
       "      <td>ESH</td>\n",
       "    </tr>\n",
       "  </tbody>\n",
       "</table>\n",
       "<p>209 rows × 17 columns</p>\n",
       "</div>"
      ],
      "text/plain": [
       "            Country/Region      Continent    Population  TotalCases  NewCases  \\\n",
       "0                      USA  North America  3.311981e+08     5032179       0.0   \n",
       "1                   Brazil  South America  2.127107e+08     2917562       0.0   \n",
       "2                    India           Asia  1.381345e+09     2025409       0.0   \n",
       "3                   Russia         Europe  1.459409e+08      871894       0.0   \n",
       "4             South Africa         Africa  5.938157e+07      538184       0.0   \n",
       "..                     ...            ...           ...         ...       ...   \n",
       "204             Montserrat  North America  4.992000e+03          13       0.0   \n",
       "205  Caribbean Netherlands  North America  2.624700e+04          13       0.0   \n",
       "206       Falkland Islands  South America  3.489000e+03          13       0.0   \n",
       "207           Vatican City         Europe  8.010000e+02          12       0.0   \n",
       "208         Western Sahara         Africa  5.986820e+05          10       0.0   \n",
       "\n",
       "     TotalDeaths  NewDeaths  TotalRecovered  NewRecovered  ActiveCases  \\\n",
       "0       162804.0        0.0       2576668.0           0.0    2292707.0   \n",
       "1        98644.0        0.0       2047660.0           0.0     771258.0   \n",
       "2        41638.0        0.0       1377384.0           0.0     606387.0   \n",
       "3        14606.0        0.0        676357.0           0.0     180931.0   \n",
       "4         9604.0        0.0        387316.0           0.0     141264.0   \n",
       "..           ...        ...             ...           ...          ...   \n",
       "204          1.0        0.0            10.0           0.0          2.0   \n",
       "205          0.0        0.0             7.0           0.0          6.0   \n",
       "206          0.0        0.0            13.0           0.0          0.0   \n",
       "207          0.0        0.0            12.0           0.0          0.0   \n",
       "208          1.0        0.0             8.0           0.0          1.0   \n",
       "\n",
       "     Serious,Critical  Tot Cases/1M pop  Deaths/1M pop  TotalTests  \\\n",
       "0             18296.0           15194.0          492.0  63139605.0   \n",
       "1              8318.0           13716.0          464.0  13206188.0   \n",
       "2              8944.0            1466.0           30.0  22149351.0   \n",
       "3              2300.0            5974.0          100.0  29716907.0   \n",
       "4               539.0            9063.0          162.0   3149807.0   \n",
       "..                ...               ...            ...         ...   \n",
       "204               0.0            2604.0          200.0        61.0   \n",
       "205               0.0             495.0            0.0       424.0   \n",
       "206               0.0            3726.0            0.0      1816.0   \n",
       "207               0.0           14981.0            0.0         0.0   \n",
       "208               0.0              17.0            2.0         0.0   \n",
       "\n",
       "     Tests/1M pop      WHO Region iso_alpha  \n",
       "0        190640.0        Americas       USA  \n",
       "1         62085.0        Americas       BRA  \n",
       "2         16035.0  South-EastAsia       IND  \n",
       "3        203623.0          Europe       RUS  \n",
       "4         53044.0          Africa       ZAF  \n",
       "..            ...             ...       ...  \n",
       "204       12220.0               0       MSR  \n",
       "205       16154.0               0            \n",
       "206      520493.0               0       FLK  \n",
       "207           0.0          Europe       VAT  \n",
       "208           0.0          Africa       ESH  \n",
       "\n",
       "[209 rows x 17 columns]"
      ]
     },
     "execution_count": 9,
     "metadata": {},
     "output_type": "execute_result"
    }
   ],
   "source": [
    "covid_data"
   ]
  },
  {
   "cell_type": "code",
   "execution_count": 14,
   "id": "617a8657",
   "metadata": {},
   "outputs": [
    {
     "data": {
      "text/plain": [
       "0      False\n",
       "1      False\n",
       "2      False\n",
       "3      False\n",
       "4      False\n",
       "       ...  \n",
       "204    False\n",
       "205    False\n",
       "206    False\n",
       "207    False\n",
       "208    False\n",
       "Name: Country/Region, Length: 209, dtype: bool"
      ]
     },
     "execution_count": 14,
     "metadata": {},
     "output_type": "execute_result"
    }
   ],
   "source": [
    "covid_data['Country/Region'].duplicated() "
   ]
  },
  {
   "cell_type": "code",
   "execution_count": 18,
   "id": "5b424097",
   "metadata": {},
   "outputs": [
    {
     "data": {
      "text/plain": [
       "Population          1.092759e+16\n",
       "TotalCases          1.871312e+11\n",
       "NewCases            2.152531e+05\n",
       "TotalDeaths         2.169433e+08\n",
       "NewDeaths           3.236954e+03\n",
       "TotalRecovered      6.469227e+10\n",
       "NewRecovered        8.601986e+04\n",
       "ActiveCases         2.992456e+10\n",
       "Serious,Critical    2.508534e+06\n",
       "Tot Cases/1M pop    2.687600e+07\n",
       "Deaths/1M pop       2.829388e+04\n",
       "TotalTests          2.832659e+13\n",
       "Tests/1M pop        2.186547e+10\n",
       "dtype: float64"
      ]
     },
     "execution_count": 18,
     "metadata": {},
     "output_type": "execute_result"
    }
   ],
   "source": [
    "covid_data.var(numeric_only=True)"
   ]
  },
  {
   "cell_type": "code",
   "execution_count": 28,
   "id": "194bcc27",
   "metadata": {},
   "outputs": [],
   "source": [
    "country_with_cases = covid_data.groupby(\"Country/Region\").aggregate(\"TotalCases\").max().sort_values(ascending=False)"
   ]
  },
  {
   "cell_type": "code",
   "execution_count": 29,
   "id": "04d147d1",
   "metadata": {},
   "outputs": [
    {
     "data": {
      "text/plain": [
       "Country/Region\n",
       "USA             5032179\n",
       "Brazil          2917562\n",
       "India           2025409\n",
       "Russia           871894\n",
       "South Africa     538184\n",
       "Mexico           462690\n",
       "Peru             455409\n",
       "Chile            366671\n",
       "Colombia         357710\n",
       "Spain            354530\n",
       "Name: TotalCases, dtype: int64"
      ]
     },
     "execution_count": 29,
     "metadata": {},
     "output_type": "execute_result"
    }
   ],
   "source": [
    "country_with_cases.head(10)"
   ]
  },
  {
   "cell_type": "code",
   "execution_count": 37,
   "id": "55fd87ff",
   "metadata": {},
   "outputs": [
    {
     "name": "stderr",
     "output_type": "stream",
     "text": [
      "/var/folders/g2/c4ppjm_x53lfmhpz_sqp533r0000gn/T/ipykernel_29989/898151016.py:4: FutureWarning: \n",
      "\n",
      "Passing `palette` without assigning `hue` is deprecated and will be removed in v0.14.0. Assign the `x` variable to `hue` and set `legend=False` for the same effect.\n",
      "\n",
      "  sns.barplot(country_with_cases.head(10), palette=palette)\n"
     ]
    },
    {
     "data": {
      "text/plain": [
       "<Axes: xlabel='Country/Region', ylabel='TotalCases'>"
      ]
     },
     "execution_count": 37,
     "metadata": {},
     "output_type": "execute_result"
    },
    {
     "data": {
      "image/png": "[encoded data removed]",
      "text/plain": [
       "<Figure size 640x480 with 1 Axes>"
      ]
     },
     "metadata": {},
     "output_type": "display_data"
    }
   ],
   "source": [
    "unique_bars = len(country_with_cases.head(10))\n",
    "palette = sns.color_palette(\"husl\", unique_bars)\n",
    "plt.xticks(rotation=90)\n",
    "sns.barplot(country_with_cases.head(10), palette=palette)"
   ]
  },
  {
   "cell_type": "code",
   "execution_count": 38,
   "id": "34cba815",
   "metadata": {},
   "outputs": [],
   "source": [
    "covid_data['death_rate'] = covid_data['TotalDeaths'] / covid_data['TotalCases']"
   ]
  },
  {
   "cell_type": "code",
   "execution_count": 39,
   "id": "af651b98",
   "metadata": {},
   "outputs": [
    {
     "data": {
      "text/html": [
       "<div>\n",
       "<style scoped>\n",
       "    .dataframe tbody tr th:only-of-type {\n",
       "        vertical-align: middle;\n",
       "    }\n",
       "\n",
       "    .dataframe tbody tr th {\n",
       "        vertical-align: top;\n",
       "    }\n",
       "\n",
       "    .dataframe thead th {\n",
       "        text-align: right;\n",
       "    }\n",
       "</style>\n",
       "<table border=\"1\" class=\"dataframe\">\n",
       "  <thead>\n",
       "    <tr style=\"text-align: right;\">\n",
       "      <th></th>\n",
       "      <th>Country/Region</th>\n",
       "      <th>Continent</th>\n",
       "      <th>Population</th>\n",
       "      <th>TotalCases</th>\n",
       "      <th>NewCases</th>\n",
       "      <th>TotalDeaths</th>\n",
       "      <th>NewDeaths</th>\n",
       "      <th>TotalRecovered</th>\n",
       "      <th>NewRecovered</th>\n",
       "      <th>ActiveCases</th>\n",
       "      <th>Serious,Critical</th>\n",
       "      <th>Tot Cases/1M pop</th>\n",
       "      <th>Deaths/1M pop</th>\n",
       "      <th>TotalTests</th>\n",
       "      <th>Tests/1M pop</th>\n",
       "      <th>WHO Region</th>\n",
       "      <th>iso_alpha</th>\n",
       "      <th>death_rate</th>\n",
       "    </tr>\n",
       "  </thead>\n",
       "  <tbody>\n",
       "    <tr>\n",
       "      <th>0</th>\n",
       "      <td>USA</td>\n",
       "      <td>North America</td>\n",
       "      <td>3.311981e+08</td>\n",
       "      <td>5032179</td>\n",
       "      <td>0.0</td>\n",
       "      <td>162804.0</td>\n",
       "      <td>0.0</td>\n",
       "      <td>2576668.0</td>\n",
       "      <td>0.0</td>\n",
       "      <td>2292707.0</td>\n",
       "      <td>18296.0</td>\n",
       "      <td>15194.0</td>\n",
       "      <td>492.0</td>\n",
       "      <td>63139605.0</td>\n",
       "      <td>190640.0</td>\n",
       "      <td>Americas</td>\n",
       "      <td>USA</td>\n",
       "      <td>0.032353</td>\n",
       "    </tr>\n",
       "    <tr>\n",
       "      <th>1</th>\n",
       "      <td>Brazil</td>\n",
       "      <td>South America</td>\n",
       "      <td>2.127107e+08</td>\n",
       "      <td>2917562</td>\n",
       "      <td>0.0</td>\n",
       "      <td>98644.0</td>\n",
       "      <td>0.0</td>\n",
       "      <td>2047660.0</td>\n",
       "      <td>0.0</td>\n",
       "      <td>771258.0</td>\n",
       "      <td>8318.0</td>\n",
       "      <td>13716.0</td>\n",
       "      <td>464.0</td>\n",
       "      <td>13206188.0</td>\n",
       "      <td>62085.0</td>\n",
       "      <td>Americas</td>\n",
       "      <td>BRA</td>\n",
       "      <td>0.033810</td>\n",
       "    </tr>\n",
       "    <tr>\n",
       "      <th>2</th>\n",
       "      <td>India</td>\n",
       "      <td>Asia</td>\n",
       "      <td>1.381345e+09</td>\n",
       "      <td>2025409</td>\n",
       "      <td>0.0</td>\n",
       "      <td>41638.0</td>\n",
       "      <td>0.0</td>\n",
       "      <td>1377384.0</td>\n",
       "      <td>0.0</td>\n",
       "      <td>606387.0</td>\n",
       "      <td>8944.0</td>\n",
       "      <td>1466.0</td>\n",
       "      <td>30.0</td>\n",
       "      <td>22149351.0</td>\n",
       "      <td>16035.0</td>\n",
       "      <td>South-EastAsia</td>\n",
       "      <td>IND</td>\n",
       "      <td>0.020558</td>\n",
       "    </tr>\n",
       "    <tr>\n",
       "      <th>3</th>\n",
       "      <td>Russia</td>\n",
       "      <td>Europe</td>\n",
       "      <td>1.459409e+08</td>\n",
       "      <td>871894</td>\n",
       "      <td>0.0</td>\n",
       "      <td>14606.0</td>\n",
       "      <td>0.0</td>\n",
       "      <td>676357.0</td>\n",
       "      <td>0.0</td>\n",
       "      <td>180931.0</td>\n",
       "      <td>2300.0</td>\n",
       "      <td>5974.0</td>\n",
       "      <td>100.0</td>\n",
       "      <td>29716907.0</td>\n",
       "      <td>203623.0</td>\n",
       "      <td>Europe</td>\n",
       "      <td>RUS</td>\n",
       "      <td>0.016752</td>\n",
       "    </tr>\n",
       "    <tr>\n",
       "      <th>4</th>\n",
       "      <td>South Africa</td>\n",
       "      <td>Africa</td>\n",
       "      <td>5.938157e+07</td>\n",
       "      <td>538184</td>\n",
       "      <td>0.0</td>\n",
       "      <td>9604.0</td>\n",
       "      <td>0.0</td>\n",
       "      <td>387316.0</td>\n",
       "      <td>0.0</td>\n",
       "      <td>141264.0</td>\n",
       "      <td>539.0</td>\n",
       "      <td>9063.0</td>\n",
       "      <td>162.0</td>\n",
       "      <td>3149807.0</td>\n",
       "      <td>53044.0</td>\n",
       "      <td>Africa</td>\n",
       "      <td>ZAF</td>\n",
       "      <td>0.017845</td>\n",
       "    </tr>\n",
       "    <tr>\n",
       "      <th>...</th>\n",
       "      <td>...</td>\n",
       "      <td>...</td>\n",
       "      <td>...</td>\n",
       "      <td>...</td>\n",
       "      <td>...</td>\n",
       "      <td>...</td>\n",
       "      <td>...</td>\n",
       "      <td>...</td>\n",
       "      <td>...</td>\n",
       "      <td>...</td>\n",
       "      <td>...</td>\n",
       "      <td>...</td>\n",
       "      <td>...</td>\n",
       "      <td>...</td>\n",
       "      <td>...</td>\n",
       "      <td>...</td>\n",
       "      <td>...</td>\n",
       "      <td>...</td>\n",
       "    </tr>\n",
       "    <tr>\n",
       "      <th>204</th>\n",
       "      <td>Montserrat</td>\n",
       "      <td>North America</td>\n",
       "      <td>4.992000e+03</td>\n",
       "      <td>13</td>\n",
       "      <td>0.0</td>\n",
       "      <td>1.0</td>\n",
       "      <td>0.0</td>\n",
       "      <td>10.0</td>\n",
       "      <td>0.0</td>\n",
       "      <td>2.0</td>\n",
       "      <td>0.0</td>\n",
       "      <td>2604.0</td>\n",
       "      <td>200.0</td>\n",
       "      <td>61.0</td>\n",
       "      <td>12220.0</td>\n",
       "      <td>0</td>\n",
       "      <td>MSR</td>\n",
       "      <td>0.076923</td>\n",
       "    </tr>\n",
       "    <tr>\n",
       "      <th>205</th>\n",
       "      <td>Caribbean Netherlands</td>\n",
       "      <td>North America</td>\n",
       "      <td>2.624700e+04</td>\n",
       "      <td>13</td>\n",
       "      <td>0.0</td>\n",
       "      <td>0.0</td>\n",
       "      <td>0.0</td>\n",
       "      <td>7.0</td>\n",
       "      <td>0.0</td>\n",
       "      <td>6.0</td>\n",
       "      <td>0.0</td>\n",
       "      <td>495.0</td>\n",
       "      <td>0.0</td>\n",
       "      <td>424.0</td>\n",
       "      <td>16154.0</td>\n",
       "      <td>0</td>\n",
       "      <td></td>\n",
       "      <td>0.000000</td>\n",
       "    </tr>\n",
       "    <tr>\n",
       "      <th>206</th>\n",
       "      <td>Falkland Islands</td>\n",
       "      <td>South America</td>\n",
       "      <td>3.489000e+03</td>\n",
       "      <td>13</td>\n",
       "      <td>0.0</td>\n",
       "      <td>0.0</td>\n",
       "      <td>0.0</td>\n",
       "      <td>13.0</td>\n",
       "      <td>0.0</td>\n",
       "      <td>0.0</td>\n",
       "      <td>0.0</td>\n",
       "      <td>3726.0</td>\n",
       "      <td>0.0</td>\n",
       "      <td>1816.0</td>\n",
       "      <td>520493.0</td>\n",
       "      <td>0</td>\n",
       "      <td>FLK</td>\n",
       "      <td>0.000000</td>\n",
       "    </tr>\n",
       "    <tr>\n",
       "      <th>207</th>\n",
       "      <td>Vatican City</td>\n",
       "      <td>Europe</td>\n",
       "      <td>8.010000e+02</td>\n",
       "      <td>12</td>\n",
       "      <td>0.0</td>\n",
       "      <td>0.0</td>\n",
       "      <td>0.0</td>\n",
       "      <td>12.0</td>\n",
       "      <td>0.0</td>\n",
       "      <td>0.0</td>\n",
       "      <td>0.0</td>\n",
       "      <td>14981.0</td>\n",
       "      <td>0.0</td>\n",
       "      <td>0.0</td>\n",
       "      <td>0.0</td>\n",
       "      <td>Europe</td>\n",
       "      <td>VAT</td>\n",
       "      <td>0.000000</td>\n",
       "    </tr>\n",
       "    <tr>\n",
       "      <th>208</th>\n",
       "      <td>Western Sahara</td>\n",
       "      <td>Africa</td>\n",
       "      <td>5.986820e+05</td>\n",
       "      <td>10</td>\n",
       "      <td>0.0</td>\n",
       "      <td>1.0</td>\n",
       "      <td>0.0</td>\n",
       "      <td>8.0</td>\n",
       "      <td>0.0</td>\n",
       "      <td>1.0</td>\n",
       "      <td>0.0</td>\n",
       "      <td>17.0</td>\n",
       "      <td>2.0</td>\n",
       "      <td>0.0</td>\n",
       "      <td>0.0</td>\n",
       "      <td>Africa</td>\n",
       "      <td>ESH</td>\n",
       "      <td>0.100000</td>\n",
       "    </tr>\n",
       "  </tbody>\n",
       "</table>\n",
       "<p>209 rows × 18 columns</p>\n",
       "</div>"
      ],
      "text/plain": [
       "            Country/Region      Continent    Population  TotalCases  NewCases  \\\n",
       "0                      USA  North America  3.311981e+08     5032179       0.0   \n",
       "1                   Brazil  South America  2.127107e+08     2917562       0.0   \n",
       "2                    India           Asia  1.381345e+09     2025409       0.0   \n",
       "3                   Russia         Europe  1.459409e+08      871894       0.0   \n",
       "4             South Africa         Africa  5.938157e+07      538184       0.0   \n",
       "..                     ...            ...           ...         ...       ...   \n",
       "204             Montserrat  North America  4.992000e+03          13       0.0   \n",
       "205  Caribbean Netherlands  North America  2.624700e+04          13       0.0   \n",
       "206       Falkland Islands  South America  3.489000e+03          13       0.0   \n",
       "207           Vatican City         Europe  8.010000e+02          12       0.0   \n",
       "208         Western Sahara         Africa  5.986820e+05          10       0.0   \n",
       "\n",
       "     TotalDeaths  NewDeaths  TotalRecovered  NewRecovered  ActiveCases  \\\n",
       "0       162804.0        0.0       2576668.0           0.0    2292707.0   \n",
       "1        98644.0        0.0       2047660.0           0.0     771258.0   \n",
       "2        41638.0        0.0       1377384.0           0.0     606387.0   \n",
       "3        14606.0        0.0        676357.0           0.0     180931.0   \n",
       "4         9604.0        0.0        387316.0           0.0     141264.0   \n",
       "..           ...        ...             ...           ...          ...   \n",
       "204          1.0        0.0            10.0           0.0          2.0   \n",
       "205          0.0        0.0             7.0           0.0          6.0   \n",
       "206          0.0        0.0            13.0           0.0          0.0   \n",
       "207          0.0        0.0            12.0           0.0          0.0   \n",
       "208          1.0        0.0             8.0           0.0          1.0   \n",
       "\n",
       "     Serious,Critical  Tot Cases/1M pop  Deaths/1M pop  TotalTests  \\\n",
       "0             18296.0           15194.0          492.0  63139605.0   \n",
       "1              8318.0           13716.0          464.0  13206188.0   \n",
       "2              8944.0            1466.0           30.0  22149351.0   \n",
       "3              2300.0            5974.0          100.0  29716907.0   \n",
       "4               539.0            9063.0          162.0   3149807.0   \n",
       "..                ...               ...            ...         ...   \n",
       "204               0.0            2604.0          200.0        61.0   \n",
       "205               0.0             495.0            0.0       424.0   \n",
       "206               0.0            3726.0            0.0      1816.0   \n",
       "207               0.0           14981.0            0.0         0.0   \n",
       "208               0.0              17.0            2.0         0.0   \n",
       "\n",
       "     Tests/1M pop      WHO Region iso_alpha  death_rate  \n",
       "0        190640.0        Americas       USA    0.032353  \n",
       "1         62085.0        Americas       BRA    0.033810  \n",
       "2         16035.0  South-EastAsia       IND    0.020558  \n",
       "3        203623.0          Europe       RUS    0.016752  \n",
       "4         53044.0          Africa       ZAF    0.017845  \n",
       "..            ...             ...       ...         ...  \n",
       "204       12220.0               0       MSR    0.076923  \n",
       "205       16154.0               0              0.000000  \n",
       "206      520493.0               0       FLK    0.000000  \n",
       "207           0.0          Europe       VAT    0.000000  \n",
       "208           0.0          Africa       ESH    0.100000  \n",
       "\n",
       "[209 rows x 18 columns]"
      ]
     },
     "execution_count": 39,
     "metadata": {},
     "output_type": "execute_result"
    }
   ],
   "source": [
    "covid_data"
   ]
  },
  {
   "cell_type": "code",
   "execution_count": 43,
   "id": "4c2d2e5b",
   "metadata": {},
   "outputs": [
    {
     "data": {
      "text/plain": [
       "Country/Region  death_rate\n",
       "Afghanistan     0.035180      1\n",
       "Albania         0.031250      1\n",
       "Algeria         0.037858      1\n",
       "Andorra         0.055085      1\n",
       "Angola          0.043156      1\n",
       "                             ..\n",
       "Vietnam         0.013387      1\n",
       "Western Sahara  0.100000      1\n",
       "Yemen           0.287330      1\n",
       "Zambia          0.027778      1\n",
       "Zimbabwe        0.019359      1\n",
       "Name: count, Length: 209, dtype: int64"
      ]
     },
     "execution_count": 43,
     "metadata": {},
     "output_type": "execute_result"
    }
   ],
   "source": [
    "covid_data.groupby(\"Country/Region\").aggregate(\"death_rate\").value_counts()"
   ]
  },
  {
   "cell_type": "code",
   "execution_count": 44,
   "id": "55b91f06",
   "metadata": {},
   "outputs": [],
   "source": [
    "covid_data['recovery_rate'] = covid_data['TotalRecovered'] / covid_data['TotalCases']"
   ]
  },
  {
   "cell_type": "code",
   "execution_count": 45,
   "id": "d0bbad10",
   "metadata": {},
   "outputs": [
    {
     "data": {
      "text/html": [
       "<div>\n",
       "<style scoped>\n",
       "    .dataframe tbody tr th:only-of-type {\n",
       "        vertical-align: middle;\n",
       "    }\n",
       "\n",
       "    .dataframe tbody tr th {\n",
       "        vertical-align: top;\n",
       "    }\n",
       "\n",
       "    .dataframe thead th {\n",
       "        text-align: right;\n",
       "    }\n",
       "</style>\n",
       "<table border=\"1\" class=\"dataframe\">\n",
       "  <thead>\n",
       "    <tr style=\"text-align: right;\">\n",
       "      <th></th>\n",
       "      <th>Country/Region</th>\n",
       "      <th>Continent</th>\n",
       "      <th>Population</th>\n",
       "      <th>TotalCases</th>\n",
       "      <th>NewCases</th>\n",
       "      <th>TotalDeaths</th>\n",
       "      <th>NewDeaths</th>\n",
       "      <th>TotalRecovered</th>\n",
       "      <th>NewRecovered</th>\n",
       "      <th>ActiveCases</th>\n",
       "      <th>Serious,Critical</th>\n",
       "      <th>Tot Cases/1M pop</th>\n",
       "      <th>Deaths/1M pop</th>\n",
       "      <th>TotalTests</th>\n",
       "      <th>Tests/1M pop</th>\n",
       "      <th>WHO Region</th>\n",
       "      <th>iso_alpha</th>\n",
       "      <th>death_rate</th>\n",
       "      <th>recovery_rate</th>\n",
       "    </tr>\n",
       "  </thead>\n",
       "  <tbody>\n",
       "    <tr>\n",
       "      <th>0</th>\n",
       "      <td>USA</td>\n",
       "      <td>North America</td>\n",
       "      <td>3.311981e+08</td>\n",
       "      <td>5032179</td>\n",
       "      <td>0.0</td>\n",
       "      <td>162804.0</td>\n",
       "      <td>0.0</td>\n",
       "      <td>2576668.0</td>\n",
       "      <td>0.0</td>\n",
       "      <td>2292707.0</td>\n",
       "      <td>18296.0</td>\n",
       "      <td>15194.0</td>\n",
       "      <td>492.0</td>\n",
       "      <td>63139605.0</td>\n",
       "      <td>190640.0</td>\n",
       "      <td>Americas</td>\n",
       "      <td>USA</td>\n",
       "      <td>0.032353</td>\n",
       "      <td>0.512038</td>\n",
       "    </tr>\n",
       "    <tr>\n",
       "      <th>1</th>\n",
       "      <td>Brazil</td>\n",
       "      <td>South America</td>\n",
       "      <td>2.127107e+08</td>\n",
       "      <td>2917562</td>\n",
       "      <td>0.0</td>\n",
       "      <td>98644.0</td>\n",
       "      <td>0.0</td>\n",
       "      <td>2047660.0</td>\n",
       "      <td>0.0</td>\n",
       "      <td>771258.0</td>\n",
       "      <td>8318.0</td>\n",
       "      <td>13716.0</td>\n",
       "      <td>464.0</td>\n",
       "      <td>13206188.0</td>\n",
       "      <td>62085.0</td>\n",
       "      <td>Americas</td>\n",
       "      <td>BRA</td>\n",
       "      <td>0.033810</td>\n",
       "      <td>0.701839</td>\n",
       "    </tr>\n",
       "    <tr>\n",
       "      <th>2</th>\n",
       "      <td>India</td>\n",
       "      <td>Asia</td>\n",
       "      <td>1.381345e+09</td>\n",
       "      <td>2025409</td>\n",
       "      <td>0.0</td>\n",
       "      <td>41638.0</td>\n",
       "      <td>0.0</td>\n",
       "      <td>1377384.0</td>\n",
       "      <td>0.0</td>\n",
       "      <td>606387.0</td>\n",
       "      <td>8944.0</td>\n",
       "      <td>1466.0</td>\n",
       "      <td>30.0</td>\n",
       "      <td>22149351.0</td>\n",
       "      <td>16035.0</td>\n",
       "      <td>South-EastAsia</td>\n",
       "      <td>IND</td>\n",
       "      <td>0.020558</td>\n",
       "      <td>0.680052</td>\n",
       "    </tr>\n",
       "    <tr>\n",
       "      <th>3</th>\n",
       "      <td>Russia</td>\n",
       "      <td>Europe</td>\n",
       "      <td>1.459409e+08</td>\n",
       "      <td>871894</td>\n",
       "      <td>0.0</td>\n",
       "      <td>14606.0</td>\n",
       "      <td>0.0</td>\n",
       "      <td>676357.0</td>\n",
       "      <td>0.0</td>\n",
       "      <td>180931.0</td>\n",
       "      <td>2300.0</td>\n",
       "      <td>5974.0</td>\n",
       "      <td>100.0</td>\n",
       "      <td>29716907.0</td>\n",
       "      <td>203623.0</td>\n",
       "      <td>Europe</td>\n",
       "      <td>RUS</td>\n",
       "      <td>0.016752</td>\n",
       "      <td>0.775733</td>\n",
       "    </tr>\n",
       "    <tr>\n",
       "      <th>4</th>\n",
       "      <td>South Africa</td>\n",
       "      <td>Africa</td>\n",
       "      <td>5.938157e+07</td>\n",
       "      <td>538184</td>\n",
       "      <td>0.0</td>\n",
       "      <td>9604.0</td>\n",
       "      <td>0.0</td>\n",
       "      <td>387316.0</td>\n",
       "      <td>0.0</td>\n",
       "      <td>141264.0</td>\n",
       "      <td>539.0</td>\n",
       "      <td>9063.0</td>\n",
       "      <td>162.0</td>\n",
       "      <td>3149807.0</td>\n",
       "      <td>53044.0</td>\n",
       "      <td>Africa</td>\n",
       "      <td>ZAF</td>\n",
       "      <td>0.017845</td>\n",
       "      <td>0.719672</td>\n",
       "    </tr>\n",
       "    <tr>\n",
       "      <th>...</th>\n",
       "      <td>...</td>\n",
       "      <td>...</td>\n",
       "      <td>...</td>\n",
       "      <td>...</td>\n",
       "      <td>...</td>\n",
       "      <td>...</td>\n",
       "      <td>...</td>\n",
       "      <td>...</td>\n",
       "      <td>...</td>\n",
       "      <td>...</td>\n",
       "      <td>...</td>\n",
       "      <td>...</td>\n",
       "      <td>...</td>\n",
       "      <td>...</td>\n",
       "      <td>...</td>\n",
       "      <td>...</td>\n",
       "      <td>...</td>\n",
       "      <td>...</td>\n",
       "      <td>...</td>\n",
       "    </tr>\n",
       "    <tr>\n",
       "      <th>204</th>\n",
       "      <td>Montserrat</td>\n",
       "      <td>North America</td>\n",
       "      <td>4.992000e+03</td>\n",
       "      <td>13</td>\n",
       "      <td>0.0</td>\n",
       "      <td>1.0</td>\n",
       "      <td>0.0</td>\n",
       "      <td>10.0</td>\n",
       "      <td>0.0</td>\n",
       "      <td>2.0</td>\n",
       "      <td>0.0</td>\n",
       "      <td>2604.0</td>\n",
       "      <td>200.0</td>\n",
       "      <td>61.0</td>\n",
       "      <td>12220.0</td>\n",
       "      <td>0</td>\n",
       "      <td>MSR</td>\n",
       "      <td>0.076923</td>\n",
       "      <td>0.769231</td>\n",
       "    </tr>\n",
       "    <tr>\n",
       "      <th>205</th>\n",
       "      <td>Caribbean Netherlands</td>\n",
       "      <td>North America</td>\n",
       "      <td>2.624700e+04</td>\n",
       "      <td>13</td>\n",
       "      <td>0.0</td>\n",
       "      <td>0.0</td>\n",
       "      <td>0.0</td>\n",
       "      <td>7.0</td>\n",
       "      <td>0.0</td>\n",
       "      <td>6.0</td>\n",
       "      <td>0.0</td>\n",
       "      <td>495.0</td>\n",
       "      <td>0.0</td>\n",
       "      <td>424.0</td>\n",
       "      <td>16154.0</td>\n",
       "      <td>0</td>\n",
       "      <td></td>\n",
       "      <td>0.000000</td>\n",
       "      <td>0.538462</td>\n",
       "    </tr>\n",
       "    <tr>\n",
       "      <th>206</th>\n",
       "      <td>Falkland Islands</td>\n",
       "      <td>South America</td>\n",
       "      <td>3.489000e+03</td>\n",
       "      <td>13</td>\n",
       "      <td>0.0</td>\n",
       "      <td>0.0</td>\n",
       "      <td>0.0</td>\n",
       "      <td>13.0</td>\n",
       "      <td>0.0</td>\n",
       "      <td>0.0</td>\n",
       "      <td>0.0</td>\n",
       "      <td>3726.0</td>\n",
       "      <td>0.0</td>\n",
       "      <td>1816.0</td>\n",
       "      <td>520493.0</td>\n",
       "      <td>0</td>\n",
       "      <td>FLK</td>\n",
       "      <td>0.000000</td>\n",
       "      <td>1.000000</td>\n",
       "    </tr>\n",
       "    <tr>\n",
       "      <th>207</th>\n",
       "      <td>Vatican City</td>\n",
       "      <td>Europe</td>\n",
       "      <td>8.010000e+02</td>\n",
       "      <td>12</td>\n",
       "      <td>0.0</td>\n",
       "      <td>0.0</td>\n",
       "      <td>0.0</td>\n",
       "      <td>12.0</td>\n",
       "      <td>0.0</td>\n",
       "      <td>0.0</td>\n",
       "      <td>0.0</td>\n",
       "      <td>14981.0</td>\n",
       "      <td>0.0</td>\n",
       "      <td>0.0</td>\n",
       "      <td>0.0</td>\n",
       "      <td>Europe</td>\n",
       "      <td>VAT</td>\n",
       "      <td>0.000000</td>\n",
       "      <td>1.000000</td>\n",
       "    </tr>\n",
       "    <tr>\n",
       "      <th>208</th>\n",
       "      <td>Western Sahara</td>\n",
       "      <td>Africa</td>\n",
       "      <td>5.986820e+05</td>\n",
       "      <td>10</td>\n",
       "      <td>0.0</td>\n",
       "      <td>1.0</td>\n",
       "      <td>0.0</td>\n",
       "      <td>8.0</td>\n",
       "      <td>0.0</td>\n",
       "      <td>1.0</td>\n",
       "      <td>0.0</td>\n",
       "      <td>17.0</td>\n",
       "      <td>2.0</td>\n",
       "      <td>0.0</td>\n",
       "      <td>0.0</td>\n",
       "      <td>Africa</td>\n",
       "      <td>ESH</td>\n",
       "      <td>0.100000</td>\n",
       "      <td>0.800000</td>\n",
       "    </tr>\n",
       "  </tbody>\n",
       "</table>\n",
       "<p>209 rows × 19 columns</p>\n",
       "</div>"
      ],
      "text/plain": [
       "            Country/Region      Continent    Population  TotalCases  NewCases  \\\n",
       "0                      USA  North America  3.311981e+08     5032179       0.0   \n",
       "1                   Brazil  South America  2.127107e+08     2917562       0.0   \n",
       "2                    India           Asia  1.381345e+09     2025409       0.0   \n",
       "3                   Russia         Europe  1.459409e+08      871894       0.0   \n",
       "4             South Africa         Africa  5.938157e+07      538184       0.0   \n",
       "..                     ...            ...           ...         ...       ...   \n",
       "204             Montserrat  North America  4.992000e+03          13       0.0   \n",
       "205  Caribbean Netherlands  North America  2.624700e+04          13       0.0   \n",
       "206       Falkland Islands  South America  3.489000e+03          13       0.0   \n",
       "207           Vatican City         Europe  8.010000e+02          12       0.0   \n",
       "208         Western Sahara         Africa  5.986820e+05          10       0.0   \n",
       "\n",
       "     TotalDeaths  NewDeaths  TotalRecovered  NewRecovered  ActiveCases  \\\n",
       "0       162804.0        0.0       2576668.0           0.0    2292707.0   \n",
       "1        98644.0        0.0       2047660.0           0.0     771258.0   \n",
       "2        41638.0        0.0       1377384.0           0.0     606387.0   \n",
       "3        14606.0        0.0        676357.0           0.0     180931.0   \n",
       "4         9604.0        0.0        387316.0           0.0     141264.0   \n",
       "..           ...        ...             ...           ...          ...   \n",
       "204          1.0        0.0            10.0           0.0          2.0   \n",
       "205          0.0        0.0             7.0           0.0          6.0   \n",
       "206          0.0        0.0            13.0           0.0          0.0   \n",
       "207          0.0        0.0            12.0           0.0          0.0   \n",
       "208          1.0        0.0             8.0           0.0          1.0   \n",
       "\n",
       "     Serious,Critical  Tot Cases/1M pop  Deaths/1M pop  TotalTests  \\\n",
       "0             18296.0           15194.0          492.0  63139605.0   \n",
       "1              8318.0           13716.0          464.0  13206188.0   \n",
       "2              8944.0            1466.0           30.0  22149351.0   \n",
       "3              2300.0            5974.0          100.0  29716907.0   \n",
       "4               539.0            9063.0          162.0   3149807.0   \n",
       "..                ...               ...            ...         ...   \n",
       "204               0.0            2604.0          200.0        61.0   \n",
       "205               0.0             495.0            0.0       424.0   \n",
       "206               0.0            3726.0            0.0      1816.0   \n",
       "207               0.0           14981.0            0.0         0.0   \n",
       "208               0.0              17.0            2.0         0.0   \n",
       "\n",
       "     Tests/1M pop      WHO Region iso_alpha  death_rate  recovery_rate  \n",
       "0        190640.0        Americas       USA    0.032353       0.512038  \n",
       "1         62085.0        Americas       BRA    0.033810       0.701839  \n",
       "2         16035.0  South-EastAsia       IND    0.020558       0.680052  \n",
       "3        203623.0          Europe       RUS    0.016752       0.775733  \n",
       "4         53044.0          Africa       ZAF    0.017845       0.719672  \n",
       "..            ...             ...       ...         ...            ...  \n",
       "204       12220.0               0       MSR    0.076923       0.769231  \n",
       "205       16154.0               0              0.000000       0.538462  \n",
       "206      520493.0               0       FLK    0.000000       1.000000  \n",
       "207           0.0          Europe       VAT    0.000000       1.000000  \n",
       "208           0.0          Africa       ESH    0.100000       0.800000  \n",
       "\n",
       "[209 rows x 19 columns]"
      ]
     },
     "execution_count": 45,
     "metadata": {},
     "output_type": "execute_result"
    }
   ],
   "source": [
    "covid_data"
   ]
  },
  {
   "cell_type": "code",
   "execution_count": 49,
   "id": "3327113f",
   "metadata": {},
   "outputs": [],
   "source": [
    "# sns.barplot(data=covid_data)\n",
    "covid_data.aggregate(\"Continent\").drop_duplicates(inplace=True)"
   ]
  },
  {
   "cell_type": "code",
   "execution_count": 50,
   "id": "1c255e60",
   "metadata": {},
   "outputs": [
    {
     "data": {
      "text/html": [
       "<div>\n",
       "<style scoped>\n",
       "    .dataframe tbody tr th:only-of-type {\n",
       "        vertical-align: middle;\n",
       "    }\n",
       "\n",
       "    .dataframe tbody tr th {\n",
       "        vertical-align: top;\n",
       "    }\n",
       "\n",
       "    .dataframe thead th {\n",
       "        text-align: right;\n",
       "    }\n",
       "</style>\n",
       "<table border=\"1\" class=\"dataframe\">\n",
       "  <thead>\n",
       "    <tr style=\"text-align: right;\">\n",
       "      <th></th>\n",
       "      <th>Country/Region</th>\n",
       "      <th>Continent</th>\n",
       "      <th>Population</th>\n",
       "      <th>TotalCases</th>\n",
       "      <th>NewCases</th>\n",
       "      <th>TotalDeaths</th>\n",
       "      <th>NewDeaths</th>\n",
       "      <th>TotalRecovered</th>\n",
       "      <th>NewRecovered</th>\n",
       "      <th>ActiveCases</th>\n",
       "      <th>Serious,Critical</th>\n",
       "      <th>Tot Cases/1M pop</th>\n",
       "      <th>Deaths/1M pop</th>\n",
       "      <th>TotalTests</th>\n",
       "      <th>Tests/1M pop</th>\n",
       "      <th>WHO Region</th>\n",
       "      <th>iso_alpha</th>\n",
       "      <th>death_rate</th>\n",
       "      <th>recovery_rate</th>\n",
       "    </tr>\n",
       "  </thead>\n",
       "  <tbody>\n",
       "    <tr>\n",
       "      <th>0</th>\n",
       "      <td>USA</td>\n",
       "      <td>North America</td>\n",
       "      <td>3.311981e+08</td>\n",
       "      <td>5032179</td>\n",
       "      <td>0.0</td>\n",
       "      <td>162804.0</td>\n",
       "      <td>0.0</td>\n",
       "      <td>2576668.0</td>\n",
       "      <td>0.0</td>\n",
       "      <td>2292707.0</td>\n",
       "      <td>18296.0</td>\n",
       "      <td>15194.0</td>\n",
       "      <td>492.0</td>\n",
       "      <td>63139605.0</td>\n",
       "      <td>190640.0</td>\n",
       "      <td>Americas</td>\n",
       "      <td>USA</td>\n",
       "      <td>0.032353</td>\n",
       "      <td>0.512038</td>\n",
       "    </tr>\n",
       "    <tr>\n",
       "      <th>1</th>\n",
       "      <td>Brazil</td>\n",
       "      <td>South America</td>\n",
       "      <td>2.127107e+08</td>\n",
       "      <td>2917562</td>\n",
       "      <td>0.0</td>\n",
       "      <td>98644.0</td>\n",
       "      <td>0.0</td>\n",
       "      <td>2047660.0</td>\n",
       "      <td>0.0</td>\n",
       "      <td>771258.0</td>\n",
       "      <td>8318.0</td>\n",
       "      <td>13716.0</td>\n",
       "      <td>464.0</td>\n",
       "      <td>13206188.0</td>\n",
       "      <td>62085.0</td>\n",
       "      <td>Americas</td>\n",
       "      <td>BRA</td>\n",
       "      <td>0.033810</td>\n",
       "      <td>0.701839</td>\n",
       "    </tr>\n",
       "    <tr>\n",
       "      <th>2</th>\n",
       "      <td>India</td>\n",
       "      <td>Asia</td>\n",
       "      <td>1.381345e+09</td>\n",
       "      <td>2025409</td>\n",
       "      <td>0.0</td>\n",
       "      <td>41638.0</td>\n",
       "      <td>0.0</td>\n",
       "      <td>1377384.0</td>\n",
       "      <td>0.0</td>\n",
       "      <td>606387.0</td>\n",
       "      <td>8944.0</td>\n",
       "      <td>1466.0</td>\n",
       "      <td>30.0</td>\n",
       "      <td>22149351.0</td>\n",
       "      <td>16035.0</td>\n",
       "      <td>South-EastAsia</td>\n",
       "      <td>IND</td>\n",
       "      <td>0.020558</td>\n",
       "      <td>0.680052</td>\n",
       "    </tr>\n",
       "    <tr>\n",
       "      <th>3</th>\n",
       "      <td>Russia</td>\n",
       "      <td>Europe</td>\n",
       "      <td>1.459409e+08</td>\n",
       "      <td>871894</td>\n",
       "      <td>0.0</td>\n",
       "      <td>14606.0</td>\n",
       "      <td>0.0</td>\n",
       "      <td>676357.0</td>\n",
       "      <td>0.0</td>\n",
       "      <td>180931.0</td>\n",
       "      <td>2300.0</td>\n",
       "      <td>5974.0</td>\n",
       "      <td>100.0</td>\n",
       "      <td>29716907.0</td>\n",
       "      <td>203623.0</td>\n",
       "      <td>Europe</td>\n",
       "      <td>RUS</td>\n",
       "      <td>0.016752</td>\n",
       "      <td>0.775733</td>\n",
       "    </tr>\n",
       "    <tr>\n",
       "      <th>4</th>\n",
       "      <td>South Africa</td>\n",
       "      <td>Africa</td>\n",
       "      <td>5.938157e+07</td>\n",
       "      <td>538184</td>\n",
       "      <td>0.0</td>\n",
       "      <td>9604.0</td>\n",
       "      <td>0.0</td>\n",
       "      <td>387316.0</td>\n",
       "      <td>0.0</td>\n",
       "      <td>141264.0</td>\n",
       "      <td>539.0</td>\n",
       "      <td>9063.0</td>\n",
       "      <td>162.0</td>\n",
       "      <td>3149807.0</td>\n",
       "      <td>53044.0</td>\n",
       "      <td>Africa</td>\n",
       "      <td>ZAF</td>\n",
       "      <td>0.017845</td>\n",
       "      <td>0.719672</td>\n",
       "    </tr>\n",
       "    <tr>\n",
       "      <th>...</th>\n",
       "      <td>...</td>\n",
       "      <td>...</td>\n",
       "      <td>...</td>\n",
       "      <td>...</td>\n",
       "      <td>...</td>\n",
       "      <td>...</td>\n",
       "      <td>...</td>\n",
       "      <td>...</td>\n",
       "      <td>...</td>\n",
       "      <td>...</td>\n",
       "      <td>...</td>\n",
       "      <td>...</td>\n",
       "      <td>...</td>\n",
       "      <td>...</td>\n",
       "      <td>...</td>\n",
       "      <td>...</td>\n",
       "      <td>...</td>\n",
       "      <td>...</td>\n",
       "      <td>...</td>\n",
       "    </tr>\n",
       "    <tr>\n",
       "      <th>204</th>\n",
       "      <td>Montserrat</td>\n",
       "      <td>North America</td>\n",
       "      <td>4.992000e+03</td>\n",
       "      <td>13</td>\n",
       "      <td>0.0</td>\n",
       "      <td>1.0</td>\n",
       "      <td>0.0</td>\n",
       "      <td>10.0</td>\n",
       "      <td>0.0</td>\n",
       "      <td>2.0</td>\n",
       "      <td>0.0</td>\n",
       "      <td>2604.0</td>\n",
       "      <td>200.0</td>\n",
       "      <td>61.0</td>\n",
       "      <td>12220.0</td>\n",
       "      <td>0</td>\n",
       "      <td>MSR</td>\n",
       "      <td>0.076923</td>\n",
       "      <td>0.769231</td>\n",
       "    </tr>\n",
       "    <tr>\n",
       "      <th>205</th>\n",
       "      <td>Caribbean Netherlands</td>\n",
       "      <td>North America</td>\n",
       "      <td>2.624700e+04</td>\n",
       "      <td>13</td>\n",
       "      <td>0.0</td>\n",
       "      <td>0.0</td>\n",
       "      <td>0.0</td>\n",
       "      <td>7.0</td>\n",
       "      <td>0.0</td>\n",
       "      <td>6.0</td>\n",
       "      <td>0.0</td>\n",
       "      <td>495.0</td>\n",
       "      <td>0.0</td>\n",
       "      <td>424.0</td>\n",
       "      <td>16154.0</td>\n",
       "      <td>0</td>\n",
       "      <td></td>\n",
       "      <td>0.000000</td>\n",
       "      <td>0.538462</td>\n",
       "    </tr>\n",
       "    <tr>\n",
       "      <th>206</th>\n",
       "      <td>Falkland Islands</td>\n",
       "      <td>South America</td>\n",
       "      <td>3.489000e+03</td>\n",
       "      <td>13</td>\n",
       "      <td>0.0</td>\n",
       "      <td>0.0</td>\n",
       "      <td>0.0</td>\n",
       "      <td>13.0</td>\n",
       "      <td>0.0</td>\n",
       "      <td>0.0</td>\n",
       "      <td>0.0</td>\n",
       "      <td>3726.0</td>\n",
       "      <td>0.0</td>\n",
       "      <td>1816.0</td>\n",
       "      <td>520493.0</td>\n",
       "      <td>0</td>\n",
       "      <td>FLK</td>\n",
       "      <td>0.000000</td>\n",
       "      <td>1.000000</td>\n",
       "    </tr>\n",
       "    <tr>\n",
       "      <th>207</th>\n",
       "      <td>Vatican City</td>\n",
       "      <td>Europe</td>\n",
       "      <td>8.010000e+02</td>\n",
       "      <td>12</td>\n",
       "      <td>0.0</td>\n",
       "      <td>0.0</td>\n",
       "      <td>0.0</td>\n",
       "      <td>12.0</td>\n",
       "      <td>0.0</td>\n",
       "      <td>0.0</td>\n",
       "      <td>0.0</td>\n",
       "      <td>14981.0</td>\n",
       "      <td>0.0</td>\n",
       "      <td>0.0</td>\n",
       "      <td>0.0</td>\n",
       "      <td>Europe</td>\n",
       "      <td>VAT</td>\n",
       "      <td>0.000000</td>\n",
       "      <td>1.000000</td>\n",
       "    </tr>\n",
       "    <tr>\n",
       "      <th>208</th>\n",
       "      <td>Western Sahara</td>\n",
       "      <td>Africa</td>\n",
       "      <td>5.986820e+05</td>\n",
       "      <td>10</td>\n",
       "      <td>0.0</td>\n",
       "      <td>1.0</td>\n",
       "      <td>0.0</td>\n",
       "      <td>8.0</td>\n",
       "      <td>0.0</td>\n",
       "      <td>1.0</td>\n",
       "      <td>0.0</td>\n",
       "      <td>17.0</td>\n",
       "      <td>2.0</td>\n",
       "      <td>0.0</td>\n",
       "      <td>0.0</td>\n",
       "      <td>Africa</td>\n",
       "      <td>ESH</td>\n",
       "      <td>0.100000</td>\n",
       "      <td>0.800000</td>\n",
       "    </tr>\n",
       "  </tbody>\n",
       "</table>\n",
       "<p>209 rows × 19 columns</p>\n",
       "</div>"
      ],
      "text/plain": [
       "            Country/Region      Continent    Population  TotalCases  NewCases  \\\n",
       "0                      USA  North America  3.311981e+08     5032179       0.0   \n",
       "1                   Brazil  South America  2.127107e+08     2917562       0.0   \n",
       "2                    India           Asia  1.381345e+09     2025409       0.0   \n",
       "3                   Russia         Europe  1.459409e+08      871894       0.0   \n",
       "4             South Africa         Africa  5.938157e+07      538184       0.0   \n",
       "..                     ...            ...           ...         ...       ...   \n",
       "204             Montserrat  North America  4.992000e+03          13       0.0   \n",
       "205  Caribbean Netherlands  North America  2.624700e+04          13       0.0   \n",
       "206       Falkland Islands  South America  3.489000e+03          13       0.0   \n",
       "207           Vatican City         Europe  8.010000e+02          12       0.0   \n",
       "208         Western Sahara         Africa  5.986820e+05          10       0.0   \n",
       "\n",
       "     TotalDeaths  NewDeaths  TotalRecovered  NewRecovered  ActiveCases  \\\n",
       "0       162804.0        0.0       2576668.0           0.0    2292707.0   \n",
       "1        98644.0        0.0       2047660.0           0.0     771258.0   \n",
       "2        41638.0        0.0       1377384.0           0.0     606387.0   \n",
       "3        14606.0        0.0        676357.0           0.0     180931.0   \n",
       "4         9604.0        0.0        387316.0           0.0     141264.0   \n",
       "..           ...        ...             ...           ...          ...   \n",
       "204          1.0        0.0            10.0           0.0          2.0   \n",
       "205          0.0        0.0             7.0           0.0          6.0   \n",
       "206          0.0        0.0            13.0           0.0          0.0   \n",
       "207          0.0        0.0            12.0           0.0          0.0   \n",
       "208          1.0        0.0             8.0           0.0          1.0   \n",
       "\n",
       "     Serious,Critical  Tot Cases/1M pop  Deaths/1M pop  TotalTests  \\\n",
       "0             18296.0           15194.0          492.0  63139605.0   \n",
       "1              8318.0           13716.0          464.0  13206188.0   \n",
       "2              8944.0            1466.0           30.0  22149351.0   \n",
       "3              2300.0            5974.0          100.0  29716907.0   \n",
       "4               539.0            9063.0          162.0   3149807.0   \n",
       "..                ...               ...            ...         ...   \n",
       "204               0.0            2604.0          200.0        61.0   \n",
       "205               0.0             495.0            0.0       424.0   \n",
       "206               0.0            3726.0            0.0      1816.0   \n",
       "207               0.0           14981.0            0.0         0.0   \n",
       "208               0.0              17.0            2.0         0.0   \n",
       "\n",
       "     Tests/1M pop      WHO Region iso_alpha  death_rate  recovery_rate  \n",
       "0        190640.0        Americas       USA    0.032353       0.512038  \n",
       "1         62085.0        Americas       BRA    0.033810       0.701839  \n",
       "2         16035.0  South-EastAsia       IND    0.020558       0.680052  \n",
       "3        203623.0          Europe       RUS    0.016752       0.775733  \n",
       "4         53044.0          Africa       ZAF    0.017845       0.719672  \n",
       "..            ...             ...       ...         ...            ...  \n",
       "204       12220.0               0       MSR    0.076923       0.769231  \n",
       "205       16154.0               0              0.000000       0.538462  \n",
       "206      520493.0               0       FLK    0.000000       1.000000  \n",
       "207           0.0          Europe       VAT    0.000000       1.000000  \n",
       "208           0.0          Africa       ESH    0.100000       0.800000  \n",
       "\n",
       "[209 rows x 19 columns]"
      ]
     },
     "execution_count": 50,
     "metadata": {},
     "output_type": "execute_result"
    }
   ],
   "source": [
    "covid_data"
   ]
  },
  {
   "cell_type": "code",
   "execution_count": null,
   "id": "c0305619",
   "metadata": {},
   "outputs": [
    {
     "data": {
      "text/plain": [
       "Continent\n",
       "Africa               57\n",
       "Asia                 48\n",
       "Europe               48\n",
       "North America        35\n",
       "South America        14\n",
       "Australia/Oceania     6\n",
       "0                     1\n",
       "Name: count, dtype: int64"
      ]
     },
     "execution_count": 52,
     "metadata": {},
     "output_type": "execute_result"
    }
   ],
   "source": [
    "covid_data.groupby(\"Continent\")"
   ]
  },
  {
   "cell_type": "code",
   "execution_count": 54,
   "id": "e356c106",
   "metadata": {},
   "outputs": [
    {
     "data": {
      "text/plain": [
       "<Axes: xlabel='Continent', ylabel='TotalCases'>"
      ]
     },
     "execution_count": 54,
     "metadata": {},
     "output_type": "execute_result"
    },
    {
     "data": {
      "image/png": "[encoded data removed]",
      "text/plain": [
       "<Figure size 640x480 with 1 Axes>"
      ]
     },
     "metadata": {},
     "output_type": "display_data"
    }
   ],
   "source": [
    "sns.barplot(data=covid_data, hue='TotalCases', x='Continent', y='TotalCases')"
   ]
  },
  {
   "cell_type": "code",
   "execution_count": 57,
   "id": "948020c5",
   "metadata": {},
   "outputs": [
    {
     "data": {
      "text/plain": [
       "<Axes: xlabel='Country/Region', ylabel='TotalCases'>"
      ]
     },
     "execution_count": 57,
     "metadata": {},
     "output_type": "execute_result"
    },
    {
     "data": {
      "image/png": "[encoded data removed]",
      "text/plain": [
       "<Figure size 640x480 with 1 Axes>"
      ]
     },
     "metadata": {},
     "output_type": "display_data"
    }
   ],
   "source": [
    "sns.barplot(data=covid_data, hue='Country/Region', x='Country/Region', y='TotalCases')"
   ]
  },
  {
   "cell_type": "code",
   "execution_count": 58,
   "id": "48b4d744",
   "metadata": {},
   "outputs": [],
   "source": [
    "continent_summary = (\n",
    "    covid_data.groupby(\"Continent\")[[\"TotalCases\", \"TotalDeaths\", \"TotalRecovered\"]]\n",
    "      .sum()\n",
    "      .reset_index()\n",
    ")"
   ]
  },
  {
   "cell_type": "code",
   "execution_count": 59,
   "id": "b15fd07b",
   "metadata": {},
   "outputs": [
    {
     "data": {
      "text/html": [
       "<div>\n",
       "<style scoped>\n",
       "    .dataframe tbody tr th:only-of-type {\n",
       "        vertical-align: middle;\n",
       "    }\n",
       "\n",
       "    .dataframe tbody tr th {\n",
       "        vertical-align: top;\n",
       "    }\n",
       "\n",
       "    .dataframe thead th {\n",
       "        text-align: right;\n",
       "    }\n",
       "</style>\n",
       "<table border=\"1\" class=\"dataframe\">\n",
       "  <thead>\n",
       "    <tr style=\"text-align: right;\">\n",
       "      <th></th>\n",
       "      <th>Continent</th>\n",
       "      <th>TotalCases</th>\n",
       "      <th>TotalDeaths</th>\n",
       "      <th>TotalRecovered</th>\n",
       "    </tr>\n",
       "  </thead>\n",
       "  <tbody>\n",
       "    <tr>\n",
       "      <th>0</th>\n",
       "      <td>0</td>\n",
       "      <td>712</td>\n",
       "      <td>13.0</td>\n",
       "      <td>651.0</td>\n",
       "    </tr>\n",
       "    <tr>\n",
       "      <th>1</th>\n",
       "      <td>Africa</td>\n",
       "      <td>1011867</td>\n",
       "      <td>22114.0</td>\n",
       "      <td>693620.0</td>\n",
       "    </tr>\n",
       "    <tr>\n",
       "      <th>2</th>\n",
       "      <td>Asia</td>\n",
       "      <td>4689794</td>\n",
       "      <td>100627.0</td>\n",
       "      <td>3508170.0</td>\n",
       "    </tr>\n",
       "    <tr>\n",
       "      <th>3</th>\n",
       "      <td>Australia/Oceania</td>\n",
       "      <td>21735</td>\n",
       "      <td>281.0</td>\n",
       "      <td>12620.0</td>\n",
       "    </tr>\n",
       "    <tr>\n",
       "      <th>4</th>\n",
       "      <td>Europe</td>\n",
       "      <td>2982576</td>\n",
       "      <td>205232.0</td>\n",
       "      <td>1587302.0</td>\n",
       "    </tr>\n",
       "    <tr>\n",
       "      <th>5</th>\n",
       "      <td>North America</td>\n",
       "      <td>5919209</td>\n",
       "      <td>229855.0</td>\n",
       "      <td>3151678.0</td>\n",
       "    </tr>\n",
       "    <tr>\n",
       "      <th>6</th>\n",
       "      <td>South America</td>\n",
       "      <td>4543273</td>\n",
       "      <td>154885.0</td>\n",
       "      <td>3116150.0</td>\n",
       "    </tr>\n",
       "  </tbody>\n",
       "</table>\n",
       "</div>"
      ],
      "text/plain": [
       "           Continent  TotalCases  TotalDeaths  TotalRecovered\n",
       "0                  0         712         13.0           651.0\n",
       "1             Africa     1011867      22114.0        693620.0\n",
       "2               Asia     4689794     100627.0       3508170.0\n",
       "3  Australia/Oceania       21735        281.0         12620.0\n",
       "4             Europe     2982576     205232.0       1587302.0\n",
       "5      North America     5919209     229855.0       3151678.0\n",
       "6      South America     4543273     154885.0       3116150.0"
      ]
     },
     "execution_count": 59,
     "metadata": {},
     "output_type": "execute_result"
    }
   ],
   "source": [
    "continent_summary"
   ]
  },
  {
   "cell_type": "code",
   "execution_count": 62,
   "id": "07141adf",
   "metadata": {},
   "outputs": [
    {
     "data": {
      "image/png": "[encoded data removed]",
      "text/plain": [
       "<Figure size 1000x600 with 1 Axes>"
      ]
     },
     "metadata": {},
     "output_type": "display_data"
    }
   ],
   "source": [
    "continent_summary.plot(\n",
    "    x=\"Continent\",\n",
    "    y=[\"TotalCases\", \"TotalDeaths\", \"TotalRecovered\"],\n",
    "    kind=\"bar\",\n",
    "    figsize=(10,6)\n",
    ")\n",
    "plt.title(\"COVID-19 Cases, Deaths, and Recoveries by Continent\")\n",
    "plt.ylabel(\"Count\")\n",
    "plt.xlabel(\"Continent\")\n",
    "plt.xticks(rotation=90)\n",
    "plt.show()"
   ]
  },
  {
   "cell_type": "code",
   "execution_count": 66,
   "id": "43e865cc",
   "metadata": {},
   "outputs": [],
   "source": [
    "continent_data = covid_data.groupby(\"Continent\")[['TotalCases', \"TotalDeaths\", \"TotalRecovered\"]].sum().reset_index()"
   ]
  },
  {
   "cell_type": "code",
   "execution_count": 67,
   "id": "2e646463",
   "metadata": {},
   "outputs": [
    {
     "data": {
      "text/html": [
       "<div>\n",
       "<style scoped>\n",
       "    .dataframe tbody tr th:only-of-type {\n",
       "        vertical-align: middle;\n",
       "    }\n",
       "\n",
       "    .dataframe tbody tr th {\n",
       "        vertical-align: top;\n",
       "    }\n",
       "\n",
       "    .dataframe thead th {\n",
       "        text-align: right;\n",
       "    }\n",
       "</style>\n",
       "<table border=\"1\" class=\"dataframe\">\n",
       "  <thead>\n",
       "    <tr style=\"text-align: right;\">\n",
       "      <th></th>\n",
       "      <th>Continent</th>\n",
       "      <th>TotalCases</th>\n",
       "      <th>TotalDeaths</th>\n",
       "      <th>TotalRecovered</th>\n",
       "    </tr>\n",
       "  </thead>\n",
       "  <tbody>\n",
       "    <tr>\n",
       "      <th>0</th>\n",
       "      <td>0</td>\n",
       "      <td>712</td>\n",
       "      <td>13.0</td>\n",
       "      <td>651.0</td>\n",
       "    </tr>\n",
       "    <tr>\n",
       "      <th>1</th>\n",
       "      <td>Africa</td>\n",
       "      <td>1011867</td>\n",
       "      <td>22114.0</td>\n",
       "      <td>693620.0</td>\n",
       "    </tr>\n",
       "    <tr>\n",
       "      <th>2</th>\n",
       "      <td>Asia</td>\n",
       "      <td>4689794</td>\n",
       "      <td>100627.0</td>\n",
       "      <td>3508170.0</td>\n",
       "    </tr>\n",
       "    <tr>\n",
       "      <th>3</th>\n",
       "      <td>Australia/Oceania</td>\n",
       "      <td>21735</td>\n",
       "      <td>281.0</td>\n",
       "      <td>12620.0</td>\n",
       "    </tr>\n",
       "    <tr>\n",
       "      <th>4</th>\n",
       "      <td>Europe</td>\n",
       "      <td>2982576</td>\n",
       "      <td>205232.0</td>\n",
       "      <td>1587302.0</td>\n",
       "    </tr>\n",
       "    <tr>\n",
       "      <th>5</th>\n",
       "      <td>North America</td>\n",
       "      <td>5919209</td>\n",
       "      <td>229855.0</td>\n",
       "      <td>3151678.0</td>\n",
       "    </tr>\n",
       "    <tr>\n",
       "      <th>6</th>\n",
       "      <td>South America</td>\n",
       "      <td>4543273</td>\n",
       "      <td>154885.0</td>\n",
       "      <td>3116150.0</td>\n",
       "    </tr>\n",
       "  </tbody>\n",
       "</table>\n",
       "</div>"
      ],
      "text/plain": [
       "           Continent  TotalCases  TotalDeaths  TotalRecovered\n",
       "0                  0         712         13.0           651.0\n",
       "1             Africa     1011867      22114.0        693620.0\n",
       "2               Asia     4689794     100627.0       3508170.0\n",
       "3  Australia/Oceania       21735        281.0         12620.0\n",
       "4             Europe     2982576     205232.0       1587302.0\n",
       "5      North America     5919209     229855.0       3151678.0\n",
       "6      South America     4543273     154885.0       3116150.0"
      ]
     },
     "execution_count": 67,
     "metadata": {},
     "output_type": "execute_result"
    }
   ],
   "source": [
    "continent_data"
   ]
  },
  {
   "cell_type": "code",
   "execution_count": 70,
   "id": "795164ee",
   "metadata": {},
   "outputs": [],
   "source": [
    "continent_data['fatality_ratio'] = ((continent_data['TotalDeaths'] / continent_data['TotalCases']) * 100)"
   ]
  },
  {
   "cell_type": "code",
   "execution_count": 69,
   "id": "3bfc86f0",
   "metadata": {},
   "outputs": [
    {
     "data": {
      "text/html": [
       "<div>\n",
       "<style scoped>\n",
       "    .dataframe tbody tr th:only-of-type {\n",
       "        vertical-align: middle;\n",
       "    }\n",
       "\n",
       "    .dataframe tbody tr th {\n",
       "        vertical-align: top;\n",
       "    }\n",
       "\n",
       "    .dataframe thead th {\n",
       "        text-align: right;\n",
       "    }\n",
       "</style>\n",
       "<table border=\"1\" class=\"dataframe\">\n",
       "  <thead>\n",
       "    <tr style=\"text-align: right;\">\n",
       "      <th></th>\n",
       "      <th>Continent</th>\n",
       "      <th>TotalCases</th>\n",
       "      <th>TotalDeaths</th>\n",
       "      <th>TotalRecovered</th>\n",
       "      <th>fatality_ratio</th>\n",
       "    </tr>\n",
       "  </thead>\n",
       "  <tbody>\n",
       "    <tr>\n",
       "      <th>0</th>\n",
       "      <td>0</td>\n",
       "      <td>712</td>\n",
       "      <td>13.0</td>\n",
       "      <td>651.0</td>\n",
       "      <td>1.825843</td>\n",
       "    </tr>\n",
       "    <tr>\n",
       "      <th>1</th>\n",
       "      <td>Africa</td>\n",
       "      <td>1011867</td>\n",
       "      <td>22114.0</td>\n",
       "      <td>693620.0</td>\n",
       "      <td>2.185465</td>\n",
       "    </tr>\n",
       "    <tr>\n",
       "      <th>2</th>\n",
       "      <td>Asia</td>\n",
       "      <td>4689794</td>\n",
       "      <td>100627.0</td>\n",
       "      <td>3508170.0</td>\n",
       "      <td>2.145659</td>\n",
       "    </tr>\n",
       "    <tr>\n",
       "      <th>3</th>\n",
       "      <td>Australia/Oceania</td>\n",
       "      <td>21735</td>\n",
       "      <td>281.0</td>\n",
       "      <td>12620.0</td>\n",
       "      <td>1.292846</td>\n",
       "    </tr>\n",
       "    <tr>\n",
       "      <th>4</th>\n",
       "      <td>Europe</td>\n",
       "      <td>2982576</td>\n",
       "      <td>205232.0</td>\n",
       "      <td>1587302.0</td>\n",
       "      <td>6.881032</td>\n",
       "    </tr>\n",
       "    <tr>\n",
       "      <th>5</th>\n",
       "      <td>North America</td>\n",
       "      <td>5919209</td>\n",
       "      <td>229855.0</td>\n",
       "      <td>3151678.0</td>\n",
       "      <td>3.883205</td>\n",
       "    </tr>\n",
       "    <tr>\n",
       "      <th>6</th>\n",
       "      <td>South America</td>\n",
       "      <td>4543273</td>\n",
       "      <td>154885.0</td>\n",
       "      <td>3116150.0</td>\n",
       "      <td>3.409106</td>\n",
       "    </tr>\n",
       "  </tbody>\n",
       "</table>\n",
       "</div>"
      ],
      "text/plain": [
       "           Continent  TotalCases  TotalDeaths  TotalRecovered  fatality_ratio\n",
       "0                  0         712         13.0           651.0        1.825843\n",
       "1             Africa     1011867      22114.0        693620.0        2.185465\n",
       "2               Asia     4689794     100627.0       3508170.0        2.145659\n",
       "3  Australia/Oceania       21735        281.0         12620.0        1.292846\n",
       "4             Europe     2982576     205232.0       1587302.0        6.881032\n",
       "5      North America     5919209     229855.0       3151678.0        3.883205\n",
       "6      South America     4543273     154885.0       3116150.0        3.409106"
      ]
     },
     "execution_count": 69,
     "metadata": {},
     "output_type": "execute_result"
    }
   ],
   "source": [
    "continent_data"
   ]
  },
  {
   "cell_type": "code",
   "execution_count": 75,
   "id": "b83c07a8",
   "metadata": {},
   "outputs": [],
   "source": [
    "region_data = covid_data.groupby(\"WHO Region\")[[\"Population\",\"TotalTests\"]].sum().reset_index()"
   ]
  },
  {
   "cell_type": "code",
   "execution_count": 77,
   "id": "3f9d2e79",
   "metadata": {},
   "outputs": [],
   "source": [
    "region_data[\"test_ratio\"] = (region_data[\"TotalTests\"] / region_data[\"Population\"]) * 100"
   ]
  },
  {
   "cell_type": "code",
   "execution_count": 78,
   "id": "584d1ac9",
   "metadata": {},
   "outputs": [
    {
     "data": {
      "text/html": [
       "<div>\n",
       "<style scoped>\n",
       "    .dataframe tbody tr th:only-of-type {\n",
       "        vertical-align: middle;\n",
       "    }\n",
       "\n",
       "    .dataframe tbody tr th {\n",
       "        vertical-align: top;\n",
       "    }\n",
       "\n",
       "    .dataframe thead th {\n",
       "        text-align: right;\n",
       "    }\n",
       "</style>\n",
       "<table border=\"1\" class=\"dataframe\">\n",
       "  <thead>\n",
       "    <tr style=\"text-align: right;\">\n",
       "      <th></th>\n",
       "      <th>WHO Region</th>\n",
       "      <th>Population</th>\n",
       "      <th>TotalTests</th>\n",
       "      <th>test_ratio</th>\n",
       "    </tr>\n",
       "  </thead>\n",
       "  <tbody>\n",
       "    <tr>\n",
       "      <th>0</th>\n",
       "      <td>0</td>\n",
       "      <td>9.681369e+06</td>\n",
       "      <td>372279.0</td>\n",
       "      <td>3.845314</td>\n",
       "    </tr>\n",
       "    <tr>\n",
       "      <th>1</th>\n",
       "      <td>Africa</td>\n",
       "      <td>1.118461e+09</td>\n",
       "      <td>6856722.0</td>\n",
       "      <td>0.613050</td>\n",
       "    </tr>\n",
       "    <tr>\n",
       "      <th>2</th>\n",
       "      <td>Americas</td>\n",
       "      <td>1.018880e+09</td>\n",
       "      <td>92420577.0</td>\n",
       "      <td>9.070805</td>\n",
       "    </tr>\n",
       "    <tr>\n",
       "      <th>3</th>\n",
       "      <td>EasternMediterranean</td>\n",
       "      <td>7.320077e+08</td>\n",
       "      <td>19885783.0</td>\n",
       "      <td>2.716608</td>\n",
       "    </tr>\n",
       "    <tr>\n",
       "      <th>4</th>\n",
       "      <td>Europe</td>\n",
       "      <td>9.277339e+08</td>\n",
       "      <td>108184582.0</td>\n",
       "      <td>11.661165</td>\n",
       "    </tr>\n",
       "    <tr>\n",
       "      <th>5</th>\n",
       "      <td>South-EastAsia</td>\n",
       "      <td>1.997513e+09</td>\n",
       "      <td>26922262.0</td>\n",
       "      <td>1.347789</td>\n",
       "    </tr>\n",
       "    <tr>\n",
       "      <th>6</th>\n",
       "      <td>WesternPacific</td>\n",
       "      <td>5.221449e+08</td>\n",
       "      <td>13217093.0</td>\n",
       "      <td>2.531308</td>\n",
       "    </tr>\n",
       "  </tbody>\n",
       "</table>\n",
       "</div>"
      ],
      "text/plain": [
       "             WHO Region    Population   TotalTests  test_ratio\n",
       "0                     0  9.681369e+06     372279.0    3.845314\n",
       "1                Africa  1.118461e+09    6856722.0    0.613050\n",
       "2              Americas  1.018880e+09   92420577.0    9.070805\n",
       "3  EasternMediterranean  7.320077e+08   19885783.0    2.716608\n",
       "4                Europe  9.277339e+08  108184582.0   11.661165\n",
       "5        South-EastAsia  1.997513e+09   26922262.0    1.347789\n",
       "6        WesternPacific  5.221449e+08   13217093.0    2.531308"
      ]
     },
     "execution_count": 78,
     "metadata": {},
     "output_type": "execute_result"
    }
   ],
   "source": [
    "region_data"
   ]
  },
  {
   "cell_type": "markdown",
   "id": "23368877",
   "metadata": {},
   "source": [
    "# Graphs"
   ]
  },
  {
   "cell_type": "code",
   "execution_count": 94,
   "id": "3e785de7",
   "metadata": {},
   "outputs": [],
   "source": [
    "top10_deaths_country = covid_data.groupby(\"Country/Region\").aggregate(\"TotalDeaths\").sum().sort_values(ascending=False).head(10)"
   ]
  },
  {
   "cell_type": "code",
   "execution_count": null,
   "id": "e543ce64",
   "metadata": {},
   "outputs": [
    {
     "name": "stderr",
     "output_type": "stream",
     "text": [
      "/var/folders/g2/c4ppjm_x53lfmhpz_sqp533r0000gn/T/ipykernel_29989/397523666.py:1: FutureWarning: \n",
      "\n",
      "Passing `palette` without assigning `hue` is deprecated and will be removed in v0.14.0. Assign the `x` variable to `hue` and set `legend=False` for the same effect.\n",
      "\n",
      "  sns.barplot(top10_deaths_country, palette=palette)\n"
     ]
    },
    {
     "data": {
      "text/plain": [
       "<Axes: xlabel='Country/Region', ylabel='TotalDeaths'>"
      ]
     },
     "execution_count": 95,
     "metadata": {},
     "output_type": "execute_result"
    },
    {
     "data": {
      "image/png": "[encoded data removed]",
      "text/plain": [
       "<Figure size 640x480 with 1 Axes>"
      ]
     },
     "metadata": {},
     "output_type": "display_data"
    }
   ],
   "source": [
    "sns.barplot(top10_deaths_country, palette=palette)"
   ]
  },
  {
   "cell_type": "code",
   "execution_count": 98,
   "id": "2b989e67",
   "metadata": {},
   "outputs": [
    {
     "data": {
      "text/plain": [
       "Country/Region\n",
       "USA       162804.0\n",
       "Brazil     98644.0\n",
       "Mexico     50517.0\n",
       "UK         46413.0\n",
       "India      41638.0\n",
       "Italy      35187.0\n",
       "France     30312.0\n",
       "Spain      28500.0\n",
       "Peru       20424.0\n",
       "Iran       17976.0\n",
       "Name: TotalDeaths, dtype: float64"
      ]
     },
     "execution_count": 98,
     "metadata": {},
     "output_type": "execute_result"
    }
   ],
   "source": [
    "# sns.heatmap(top10_deaths_country)\n",
    "top10_deaths_country"
   ]
  },
  {
   "cell_type": "code",
   "execution_count": 102,
   "id": "5c41db52",
   "metadata": {},
   "outputs": [],
   "source": [
    "correlation_data = covid_data[[\"TotalCases\", \"TotalDeaths\", \"ActiveCases\", \"TotalTests\"]].corr()"
   ]
  },
  {
   "cell_type": "code",
   "execution_count": 110,
   "id": "2fa411ab",
   "metadata": {},
   "outputs": [
    {
     "data": {
      "text/plain": [
       "<Axes: >"
      ]
     },
     "execution_count": 110,
     "metadata": {},
     "output_type": "execute_result"
    },
    {
     "data": {
      "image/png": "[encoded data removed]",
      "text/plain": [
       "<Figure size 1200x600 with 2 Axes>"
      ]
     },
     "metadata": {},
     "output_type": "display_data"
    }
   ],
   "source": [
    "plt.figure(figsize=(12, 6))\n",
    "sns.heatmap(correlation_data)"
   ]
  },
  {
   "cell_type": "code",
   "execution_count": 113,
   "id": "cf31bb1b",
   "metadata": {},
   "outputs": [
    {
     "data": {
      "application/vnd.plotly.v1+json": {
       "config": {
        "plotlyServerURL": "https://plot.ly"
       },
       "data": [
        {
         "coloraxis": "coloraxis",
         "geo": "geo",
         "hovertemplate": "<b>%{hovertext}</b><br><br>iso_alpha=%{location}<br>Tot Cases/1M pop=%{z}<extra></extra>",
         "hovertext": [
          "USA",
          "Brazil",
          "India",
          "Russia",
          "South Africa",
          "Mexico",
          "Peru",
          "Chile",
          "Colombia",
          "Spain",
          "Iran",
          "UK",
          "Saudi Arabia",
          "Pakistan",
          "Bangladesh",
          "Italy",
          "Turkey",
          "Argentina",
          "Germany",
          "France",
          "Iraq",
          "Philippines",
          "Indonesia",
          "Canada",
          "Qatar",
          "Kazakhstan",
          "Egypt",
          "Ecuador",
          "Bolivia",
          "Sweden",
          "Oman",
          "Israel",
          "Ukraine",
          "Dominican Republic",
          "Panama",
          "Belgium",
          "Kuwait",
          "Belarus",
          "UAE",
          "Romania",
          "Netherlands",
          "Singapore",
          "Guatemala",
          "Portugal",
          "Poland",
          "Nigeria",
          "Honduras",
          "Bahrain",
          "Japan",
          "Armenia",
          "Ghana",
          "Kyrgyzstan",
          "Afghanistan",
          "Switzerland",
          "Algeria",
          "Azerbaijan",
          "Morocco",
          "Uzbekistan",
          "Serbia",
          "Moldova",
          "Ireland",
          "Kenya",
          "Venezuela",
          "Nepal",
          "Austria",
          "Costa Rica",
          "Ethiopia",
          "Australia",
          "El Salvador",
          "Czechia",
          "Cameroon",
          "Ivory Coast",
          "S. Korea",
          "Denmark",
          "Palestine",
          "Bosnia and Herzegovina",
          "Bulgaria",
          "Madagascar",
          "Sudan",
          "North Macedonia",
          "Senegal",
          "Norway",
          "DRC",
          "Malaysia",
          "French Guiana",
          "Gabon",
          "Tajikistan",
          "Guinea",
          "Haiti",
          "Finland",
          "Zambia",
          "Luxembourg",
          "Mauritania",
          "Paraguay",
          "Albania",
          "Lebanon",
          "Croatia",
          "Djibouti",
          "Greece",
          "Libya",
          "Equatorial Guinea",
          "Maldives",
          "CAR",
          "Hungary",
          "Malawi",
          "Zimbabwe",
          "Nicaragua",
          "Hong Kong",
          "Congo",
          "Montenegro",
          "Thailand",
          "Somalia",
          "Mayotte",
          "Eswatini",
          "Sri Lanka",
          "Cuba",
          "Cabo Verde",
          "Namibia",
          "Mali",
          "Slovakia",
          "South Sudan",
          "Slovenia",
          "Lithuania",
          "Estonia",
          "Mozambique",
          "Rwanda",
          "Suriname",
          "Guinea-Bissau",
          "Benin",
          "Iceland",
          "Sierra Leone",
          "Yemen",
          "Tunisia",
          "New Zealand",
          "Angola",
          "Uruguay",
          "Latvia",
          "Jordan",
          "Liberia",
          "Uganda",
          "Cyprus",
          "Georgia",
          "Burkina Faso",
          "Niger",
          "Togo",
          "Syria",
          "Jamaica",
          "Malta",
          "Andorra",
          "Chad",
          "Gambia",
          "Sao Tome and Principe",
          "Botswana",
          "Bahamas",
          "Vietnam",
          "Lesotho",
          "Diamond Princess",
          "San Marino",
          "Réunion",
          "Channel Islands",
          "Guyana",
          "Tanzania",
          "Taiwan",
          "Comoros",
          "Burundi",
          "Myanmar",
          "Mauritius",
          "Isle of Man",
          "Mongolia",
          "Eritrea",
          "Guadeloupe",
          "Martinique",
          "Faeroe Islands",
          "Aruba",
          "Cambodia",
          "Trinidad and Tobago",
          "Cayman Islands",
          "Gibraltar",
          "Papua New Guinea",
          "Sint Maarten",
          "Bermuda",
          "Brunei ",
          "Barbados",
          "Turks and Caicos",
          "Seychelles",
          "Monaco",
          "Bhutan",
          "Antigua and Barbuda",
          "Liechtenstein",
          "Belize",
          "French Polynesia",
          "St. Vincent Grenadines",
          "Saint Martin",
          "Macao",
          "Curaçao",
          "Fiji",
          "Saint Lucia",
          "Timor-Leste",
          "Grenada",
          "New Caledonia",
          "Laos",
          "Dominica",
          "Saint Kitts and Nevis",
          "Greenland",
          "Montserrat",
          "Caribbean Netherlands",
          "Falkland Islands",
          "Vatican City",
          "Western Sahara"
         ],
         "locations": [
          "USA",
          "BRA",
          "IND",
          "RUS",
          "ZAF",
          "MEX",
          "PER",
          "CHL",
          "COL",
          "ESP",
          "IRN",
          "UKR",
          "SAU",
          "PAK",
          "BGD",
          "ITA",
          "TUR",
          "ARG",
          "DEU",
          "FRA",
          "IRQ",
          "PHL",
          "IDN",
          "CAN",
          "QAT",
          "KAZ",
          "EGY",
          "ECU",
          "BOL",
          "SWE",
          "OMN",
          "ISR",
          "UKR",
          "DOM",
          "PAN",
          "BEL",
          "KWT",
          "BLR",
          " ",
          "ROU",
          "NLD",
          "SGP",
          "GTM",
          "PRT",
          "POL",
          "NGA",
          "HND",
          "BHR",
          "JPN",
          "ARM",
          "GHA",
          "KGZ",
          "AFG",
          "CHE",
          "DZA",
          "AZE",
          "MAR",
          "UZB",
          "SRB",
          "MDA",
          "IRL",
          "KEN",
          "VEN",
          "NPL",
          "AUT",
          "CRI",
          "ETH",
          "AUS",
          "SLV",
          "CZE",
          "CMR",
          " ",
          " ",
          "DNK",
          "PSE",
          "BIH",
          "BGR",
          "MDG",
          "SDN",
          "MKD",
          "SEN",
          "NOR",
          " ",
          "MYS",
          "GUF",
          "GAB",
          "TJK",
          "GIN",
          "HTI",
          "FIN",
          "ZMB",
          "LUX",
          "MRT",
          "PRY",
          "ALB",
          "LBN",
          "HRV",
          "DJI",
          "GRC",
          "LBY",
          "GNQ",
          "MDV",
          "NIC",
          "HUN",
          "MWI",
          "ZWE",
          "NIC",
          "HKG",
          "COG",
          "MNE",
          "THA",
          "SOM",
          "FRA",
          "SWZ",
          "LKA",
          "CUB",
          "CPV",
          "NAM",
          "MLI",
          "SVK",
          "SSD",
          "SVN",
          "LTU",
          "EST",
          "MOZ",
          "RWA",
          "SUR",
          "GNB",
          "BEN",
          "ISL",
          "SLE",
          "YEM",
          "TUN",
          "NZL",
          "AGO",
          "URY",
          "LVA",
          "JOR",
          "LBR",
          "UGA",
          "CYP",
          "GEO",
          "BFA",
          "NGA",
          "TGO",
          "SYR",
          "JAM",
          "MLT",
          "AND",
          "TCD",
          "GMB",
          "STP",
          "BWA",
          "BHS",
          "VNM",
          "LSO",
          " ",
          "SMR",
          "REU",
          " ",
          "GUY",
          "TZA",
          "TWN",
          "COM",
          "BDI",
          "MMR",
          "MUS",
          "IMN",
          "MNG",
          "ERI",
          "FRA",
          "MTQ",
          " ",
          "ABW",
          "KHM",
          "TTO",
          "CYM",
          "GIB",
          "PNG",
          "NLD",
          "BMU",
          "BRN",
          "BRB",
          "TCA",
          "SYC",
          "MCO",
          "BTN",
          "ATG",
          "LIE",
          "BLZ",
          "PYF",
          " ",
          "MAF",
          "MAC",
          "NLD",
          "FJI",
          "LCA",
          "TLS",
          "GRD",
          "NCL",
          " ",
          "DMA",
          "KNA",
          "GRL",
          "MSR",
          " ",
          "FLK",
          "VAT",
          "ESH"
         ],
         "name": "",
         "type": "choropleth",
         "z": {
          "bdata": "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",
          "dtype": "f8"
         }
        }
       ],
       "layout": {
        "coloraxis": {
         "colorbar": {
          "title": {
           "text": "Tot Cases/1M pop"
          }
         },
         "colorscale": [
          [
           0,
           "rgb(255,245,240)"
          ],
          [
           0.125,
           "rgb(254,224,210)"
          ],
          [
           0.25,
           "rgb(252,187,161)"
          ],
          [
           0.375,
           "rgb(252,146,114)"
          ],
          [
           0.5,
           "rgb(251,106,74)"
          ],
          [
           0.625,
           "rgb(239,59,44)"
          ],
          [
           0.75,
           "rgb(203,24,29)"
          ],
          [
           0.875,
           "rgb(165,15,21)"
          ],
          [
           1,
           "rgb(103,0,13)"
          ]
         ]
        },
        "geo": {
         "center": {},
         "domain": {
          "x": [
           0,
           1
          ],
          "y": [
           0,
           1
          ]
         }
        },
        "legend": {
         "tracegroupgap": 0
        },
        "template": {
         "data": {
          "bar": [
           {
            "error_x": {
             "color": "#2a3f5f"
            },
            "error_y": {
             "color": "#2a3f5f"
            },
            "marker": {
             "line": {
              "color": "#E5ECF6",
              "width": 0.5
             },
             "pattern": {
              "fillmode": "overlay",
              "size": 10,
              "solidity": 0.2
             }
            },
            "type": "bar"
           }
          ],
          "barpolar": [
           {
            "marker": {
             "line": {
              "color": "#E5ECF6",
              "width": 0.5
             },
             "pattern": {
              "fillmode": "overlay",
              "size": 10,
              "solidity": 0.2
             }
            },
            "type": "barpolar"
           }
          ],
          "carpet": [
           {
            "aaxis": {
             "endlinecolor": "#2a3f5f",
             "gridcolor": "white",
             "linecolor": "white",
             "minorgridcolor": "white",
             "startlinecolor": "#2a3f5f"
            },
            "baxis": {
             "endlinecolor": "#2a3f5f",
             "gridcolor": "white",
             "linecolor": "white",
             "minorgridcolor": "white",
             "startlinecolor": "#2a3f5f"
            },
            "type": "carpet"
           }
          ],
          "choropleth": [
           {
            "colorbar": {
             "outlinewidth": 0,
             "ticks": ""
            },
            "type": "choropleth"
           }
          ],
          "contour": [
           {
            "colorbar": {
             "outlinewidth": 0,
             "ticks": ""
            },
            "colorscale": [
             [
              0,
              "#0d0887"
             ],
             [
              0.1111111111111111,
              "#46039f"
             ],
             [
              0.2222222222222222,
              "#7201a8"
             ],
             [
              0.3333333333333333,
              "#9c179e"
             ],
             [
              0.4444444444444444,
              "#bd3786"
             ],
             [
              0.5555555555555556,
              "#d8576b"
             ],
             [
              0.6666666666666666,
              "#ed7953"
             ],
             [
              0.7777777777777778,
              "#fb9f3a"
             ],
             [
              0.8888888888888888,
              "#fdca26"
             ],
             [
              1,
              "#f0f921"
             ]
            ],
            "type": "contour"
           }
          ],
          "contourcarpet": [
           {
            "colorbar": {
             "outlinewidth": 0,
             "ticks": ""
            },
            "type": "contourcarpet"
           }
          ],
          "heatmap": [
           {
            "colorbar": {
             "outlinewidth": 0,
             "ticks": ""
            },
            "colorscale": [
             [
              0,
              "#0d0887"
             ],
             [
              0.1111111111111111,
              "#46039f"
             ],
             [
              0.2222222222222222,
              "#7201a8"
             ],
             [
              0.3333333333333333,
              "#9c179e"
             ],
             [
              0.4444444444444444,
              "#bd3786"
             ],
             [
              0.5555555555555556,
              "#d8576b"
             ],
             [
              0.6666666666666666,
              "#ed7953"
             ],
             [
              0.7777777777777778,
              "#fb9f3a"
             ],
             [
              0.8888888888888888,
              "#fdca26"
             ],
             [
              1,
              "#f0f921"
             ]
            ],
            "type": "heatmap"
           }
          ],
          "histogram": [
           {
            "marker": {
             "pattern": {
              "fillmode": "overlay",
              "size": 10,
              "solidity": 0.2
             }
            },
            "type": "histogram"
           }
          ],
          "histogram2d": [
           {
            "colorbar": {
             "outlinewidth": 0,
             "ticks": ""
            },
            "colorscale": [
             [
              0,
              "#0d0887"
             ],
             [
              0.1111111111111111,
              "#46039f"
             ],
             [
              0.2222222222222222,
              "#7201a8"
             ],
             [
              0.3333333333333333,
              "#9c179e"
             ],
             [
              0.4444444444444444,
              "#bd3786"
             ],
             [
              0.5555555555555556,
              "#d8576b"
             ],
             [
              0.6666666666666666,
              "#ed7953"
             ],
             [
              0.7777777777777778,
              "#fb9f3a"
             ],
             [
              0.8888888888888888,
              "#fdca26"
             ],
             [
              1,
              "#f0f921"
             ]
            ],
            "type": "histogram2d"
           }
          ],
          "histogram2dcontour": [
           {
            "colorbar": {
             "outlinewidth": 0,
             "ticks": ""
            },
            "colorscale": [
             [
              0,
              "#0d0887"
             ],
             [
              0.1111111111111111,
              "#46039f"
             ],
             [
              0.2222222222222222,
              "#7201a8"
             ],
             [
              0.3333333333333333,
              "#9c179e"
             ],
             [
              0.4444444444444444,
              "#bd3786"
             ],
             [
              0.5555555555555556,
              "#d8576b"
             ],
             [
              0.6666666666666666,
              "#ed7953"
             ],
             [
              0.7777777777777778,
              "#fb9f3a"
             ],
             [
              0.8888888888888888,
              "#fdca26"
             ],
             [
              1,
              "#f0f921"
             ]
            ],
            "type": "histogram2dcontour"
           }
          ],
          "mesh3d": [
           {
            "colorbar": {
             "outlinewidth": 0,
             "ticks": ""
            },
            "type": "mesh3d"
           }
          ],
          "parcoords": [
           {
            "line": {
             "colorbar": {
              "outlinewidth": 0,
              "ticks": ""
             }
            },
            "type": "parcoords"
           }
          ],
          "pie": [
           {
            "automargin": true,
            "type": "pie"
           }
          ],
          "scatter": [
           {
            "fillpattern": {
             "fillmode": "overlay",
             "size": 10,
             "solidity": 0.2
            },
            "type": "scatter"
           }
          ],
          "scatter3d": [
           {
            "line": {
             "colorbar": {
              "outlinewidth": 0,
              "ticks": ""
             }
            },
            "marker": {
             "colorbar": {
              "outlinewidth": 0,
              "ticks": ""
             }
            },
            "type": "scatter3d"
           }
          ],
          "scattercarpet": [
           {
            "marker": {
             "colorbar": {
              "outlinewidth": 0,
              "ticks": ""
             }
            },
            "type": "scattercarpet"
           }
          ],
          "scattergeo": [
           {
            "marker": {
             "colorbar": {
              "outlinewidth": 0,
              "ticks": ""
             }
            },
            "type": "scattergeo"
           }
          ],
          "scattergl": [
           {
            "marker": {
             "colorbar": {
              "outlinewidth": 0,
              "ticks": ""
             }
            },
            "type": "scattergl"
           }
          ],
          "scattermap": [
           {
            "marker": {
             "colorbar": {
              "outlinewidth": 0,
              "ticks": ""
             }
            },
            "type": "scattermap"
           }
          ],
          "scattermapbox": [
           {
            "marker": {
             "colorbar": {
              "outlinewidth": 0,
              "ticks": ""
             }
            },
            "type": "scattermapbox"
           }
          ],
          "scatterpolar": [
           {
            "marker": {
             "colorbar": {
              "outlinewidth": 0,
              "ticks": ""
             }
            },
            "type": "scatterpolar"
           }
          ],
          "scatterpolargl": [
           {
            "marker": {
             "colorbar": {
              "outlinewidth": 0,
              "ticks": ""
             }
            },
            "type": "scatterpolargl"
           }
          ],
          "scatterternary": [
           {
            "marker": {
             "colorbar": {
              "outlinewidth": 0,
              "ticks": ""
             }
            },
            "type": "scatterternary"
           }
          ],
          "surface": [
           {
            "colorbar": {
             "outlinewidth": 0,
             "ticks": ""
            },
            "colorscale": [
             [
              0,
              "#0d0887"
             ],
             [
              0.1111111111111111,
              "#46039f"
             ],
             [
              0.2222222222222222,
              "#7201a8"
             ],
             [
              0.3333333333333333,
              "#9c179e"
             ],
             [
              0.4444444444444444,
              "#bd3786"
             ],
             [
              0.5555555555555556,
              "#d8576b"
             ],
             [
              0.6666666666666666,
              "#ed7953"
             ],
             [
              0.7777777777777778,
              "#fb9f3a"
             ],
             [
              0.8888888888888888,
              "#fdca26"
             ],
             [
              1,
              "#f0f921"
             ]
            ],
            "type": "surface"
           }
          ],
          "table": [
           {
            "cells": {
             "fill": {
              "color": "#EBF0F8"
             },
             "line": {
              "color": "white"
             }
            },
            "header": {
             "fill": {
              "color": "#C8D4E3"
             },
             "line": {
              "color": "white"
             }
            },
            "type": "table"
           }
          ]
         },
         "layout": {
          "annotationdefaults": {
           "arrowcolor": "#2a3f5f",
           "arrowhead": 0,
           "arrowwidth": 1
          },
          "autotypenumbers": "strict",
          "coloraxis": {
           "colorbar": {
            "outlinewidth": 0,
            "ticks": ""
           }
          },
          "colorscale": {
           "diverging": [
            [
             0,
             "#8e0152"
            ],
            [
             0.1,
             "#c51b7d"
            ],
            [
             0.2,
             "#de77ae"
            ],
            [
             0.3,
             "#f1b6da"
            ],
            [
             0.4,
             "#fde0ef"
            ],
            [
             0.5,
             "#f7f7f7"
            ],
            [
             0.6,
             "#e6f5d0"
            ],
            [
             0.7,
             "#b8e186"
            ],
            [
             0.8,
             "#7fbc41"
            ],
            [
             0.9,
             "#4d9221"
            ],
            [
             1,
             "#276419"
            ]
           ],
           "sequential": [
            [
             0,
             "#0d0887"
            ],
            [
             0.1111111111111111,
             "#46039f"
            ],
            [
             0.2222222222222222,
             "#7201a8"
            ],
            [
             0.3333333333333333,
             "#9c179e"
            ],
            [
             0.4444444444444444,
             "#bd3786"
            ],
            [
             0.5555555555555556,
             "#d8576b"
            ],
            [
             0.6666666666666666,
             "#ed7953"
            ],
            [
             0.7777777777777778,
             "#fb9f3a"
            ],
            [
             0.8888888888888888,
             "#fdca26"
            ],
            [
             1,
             "#f0f921"
            ]
           ],
           "sequentialminus": [
            [
             0,
             "#0d0887"
            ],
            [
             0.1111111111111111,
             "#46039f"
            ],
            [
             0.2222222222222222,
             "#7201a8"
            ],
            [
             0.3333333333333333,
             "#9c179e"
            ],
            [
             0.4444444444444444,
             "#bd3786"
            ],
            [
             0.5555555555555556,
             "#d8576b"
            ],
            [
             0.6666666666666666,
             "#ed7953"
            ],
            [
             0.7777777777777778,
             "#fb9f3a"
            ],
            [
             0.8888888888888888,
             "#fdca26"
            ],
            [
             1,
             "#f0f921"
            ]
           ]
          },
          "colorway": [
           "#636efa",
           "#EF553B",
           "#00cc96",
           "#ab63fa",
           "#FFA15A",
           "#19d3f3",
           "#FF6692",
           "#B6E880",
           "#FF97FF",
           "#FECB52"
          ],
          "font": {
           "color": "#2a3f5f"
          },
          "geo": {
           "bgcolor": "white",
           "lakecolor": "white",
           "landcolor": "#E5ECF6",
           "showlakes": true,
           "showland": true,
           "subunitcolor": "white"
          },
          "hoverlabel": {
           "align": "left"
          },
          "hovermode": "closest",
          "mapbox": {
           "style": "light"
          },
          "paper_bgcolor": "white",
          "plot_bgcolor": "#E5ECF6",
          "polar": {
           "angularaxis": {
            "gridcolor": "white",
            "linecolor": "white",
            "ticks": ""
           },
           "bgcolor": "#E5ECF6",
           "radialaxis": {
            "gridcolor": "white",
            "linecolor": "white",
            "ticks": ""
           }
          },
          "scene": {
           "xaxis": {
            "backgroundcolor": "#E5ECF6",
            "gridcolor": "white",
            "gridwidth": 2,
            "linecolor": "white",
            "showbackground": true,
            "ticks": "",
            "zerolinecolor": "white"
           },
           "yaxis": {
            "backgroundcolor": "#E5ECF6",
            "gridcolor": "white",
            "gridwidth": 2,
            "linecolor": "white",
            "showbackground": true,
            "ticks": "",
            "zerolinecolor": "white"
           },
           "zaxis": {
            "backgroundcolor": "#E5ECF6",
            "gridcolor": "white",
            "gridwidth": 2,
            "linecolor": "white",
            "showbackground": true,
            "ticks": "",
            "zerolinecolor": "white"
           }
          },
          "shapedefaults": {
           "line": {
            "color": "#2a3f5f"
           }
          },
          "ternary": {
           "aaxis": {
            "gridcolor": "white",
            "linecolor": "white",
            "ticks": ""
           },
           "baxis": {
            "gridcolor": "white",
            "linecolor": "white",
            "ticks": ""
           },
           "bgcolor": "#E5ECF6",
           "caxis": {
            "gridcolor": "white",
            "linecolor": "white",
            "ticks": ""
           }
          },
          "title": {
           "x": 0.05
          },
          "xaxis": {
           "automargin": true,
           "gridcolor": "white",
           "linecolor": "white",
           "ticks": "",
           "title": {
            "standoff": 15
           },
           "zerolinecolor": "white",
           "zerolinewidth": 2
          },
          "yaxis": {
           "automargin": true,
           "gridcolor": "white",
           "linecolor": "white",
           "ticks": "",
           "title": {
            "standoff": 15
           },
           "zerolinecolor": "white",
           "zerolinewidth": 2
          }
         }
        },
        "title": {
         "text": "COVID-19 Cases per Million Population (World Map)"
        }
       }
      }
     },
     "metadata": {},
     "output_type": "display_data"
    }
   ],
   "source": [
    "fig = px.choropleth(\n",
    "    covid_data,\n",
    "    locations=\"iso_alpha\",            # ISO country codes\n",
    "    color=\"Tot Cases/1M pop\",         # Cases per million\n",
    "    hover_name=\"Country/Region\",      # Show country on hover\n",
    "    color_continuous_scale=\"Reds\",    # Color scale\n",
    "    title=\"COVID-19 Cases per Million Population (World Map)\"\n",
    ")\n",
    "\n",
    "fig.show()"
   ]
  },
  {
   "cell_type": "code",
   "execution_count": 133,
   "id": "2a7881b0",
   "metadata": {},
   "outputs": [
    {
     "data": {
      "image/png": "[encoded data removed]",
      "text/plain": [
       "<Figure size 700x700 with 1 Axes>"
      ]
     },
     "metadata": {},
     "output_type": "display_data"
    }
   ],
   "source": [
    "continent_cases = covid_data.groupby(\"Continent\")[\"TotalCases\"].sum()\n",
    "plt.figure(figsize=(7,7))\n",
    "plt.pie(\n",
    "    continent_cases.values,          # numeric values\n",
    "    labels=continent_cases.index,    # continent names\n",
    "    autopct=\"%1.1f%%\",               # show % inside pie\n",
    "    startangle=90,                   # rotate so it looks cleaner\n",
    "    colors=plt.cm.Paired.colors      # color palette\n",
    ")\n",
    "\n",
    "plt.title(\"Continent-wise COVID-19 Cases Distribution\")\n",
    "plt.show()"
   ]
  },
  {
   "cell_type": "code",
   "execution_count": null,
   "id": "ca27a55a",
   "metadata": {},
   "outputs": [],
   "source": []
  }
 ],
 "metadata": {
  "kernelspec": {
   "display_name": "data-analysis (3.13.6)",
   "language": "python",
   "name": "python3"
  },
  "language_info": {
   "codemirror_mode": {
    "name": "ipython",
    "version": 3
   },
   "file_extension": ".py",
   "mimetype": "text/x-python",
   "name": "python",
   "nbconvert_exporter": "python",
   "pygments_lexer": "ipython3",
   "version": "3.13.6"
  }
 },
 "nbformat": 4,
 "nbformat_minor": 5
}
